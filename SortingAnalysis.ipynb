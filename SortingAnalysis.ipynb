{
 "cells": [
  {
   "cell_type": "code",
   "execution_count": null,
   "metadata": {},
   "outputs": [],
   "source": [
    "import random\n",
    "import pandas as pd\n",
    "from statistics import mean\n",
    "import plotly.express as px\n",
    "import numpy as np"
   ]
  },
  {
   "cell_type": "code",
   "execution_count": null,
   "metadata": {},
   "outputs": [],
   "source": [
    "def merge(l, r, comparisons):\n",
    "    final = []\n",
    "    left_counter = 0\n",
    "    right_counter = 0\n",
    "    while right_counter < len(r) and left_counter < len(l):\n",
    "        comparisons[l[left_counter]] += 1\n",
    "        comparisons[r[right_counter]] += 1\n",
    "        if l[left_counter] <= r[right_counter]:\n",
    "            final.append(l[left_counter])\n",
    "            left_counter += 1\n",
    "        else:\n",
    "            final.append(r[right_counter])\n",
    "            right_counter += 1\n",
    "    if right_counter == len(r):\n",
    "        final = final + l[left_counter:]\n",
    "    else:\n",
    "        final = final + r[right_counter:]\n",
    "    return final\n",
    "\n",
    "def mergeSort(x, comparisons):\n",
    "    if len(x) == 2:\n",
    "        comparisons[min(x)] += 1\n",
    "        comparisons[max(x)] += 1\n",
    "        return [min(x), max(x)]\n",
    "    elif len(x) == 1:\n",
    "        return x\n",
    "    else:\n",
    "        midpoint = int(len(x)/2)\n",
    "        l = mergeSort(x[:midpoint], comparisons)\n",
    "        r = mergeSort(x[midpoint:], comparisons)\n",
    "    return merge(l, r, comparisons)"
   ]
  },
  {
   "cell_type": "code",
   "execution_count": null,
   "metadata": {},
   "outputs": [],
   "source": [
    "class Team():\n",
    "    def __init__(self, name, rank):\n",
    "        self.name = name\n",
    "        self.rank = rank\n",
    "        self.expectedResult = None\n",
    "        self.finalResult = None\n",
    "    \n",
    "    def __repr__(self):\n",
    "        return f\"Team {self.name}\"\n",
    "\n",
    "class Game():\n",
    "    def __init__(self, team1, team2):\n",
    "        self.team1 = team1\n",
    "        self.team2 = team2\n",
    "        self.result = self.GetWinnerAndLoser()\n",
    "\n",
    "    def GetWinnerAndLoser(self):\n",
    "        if self.team1.rank < self.team2.rank:\n",
    "            return {\"Winner\": self.team1, \"Loser\": self.team2}\n",
    "        else:\n",
    "            return {\"Winner\": self.team2, \"Loser\": self.team1}\n",
    "    \n",
    "    def __repr__(self):\n",
    "        return str(self.result)\n",
    "\n",
    "class Tournament():\n",
    "    def __init__(self, teams):\n",
    "        self.teams = teams\n",
    "        self.result = None\n",
    "        self.rounds = int(np.log2(len(self.teams)))\n",
    "\n",
    "        # random initial bracket\n",
    "        self.order = random.sample(self.teams, len(self.teams))\n",
    "        self.ranking = []\n",
    "        self.comparisons = {t: 0 for t in self.teams}\n",
    "    \n",
    "    def FindWinner(self, displayResult = False):\n",
    "        # Set where the teams finished in the previous knockout bracket\n",
    "        if self.result is not None:\n",
    "            finalResult = {t:k for k in self.result.keys() for t in self.result[k]}\n",
    "            for t in self.teams:\n",
    "                t.finalResult = finalResult[t]\n",
    "        \n",
    "        order = self.order.copy()\n",
    "        level = {_: [] for _ in range(self.rounds+1)}\n",
    "\n",
    "        for r in range(self.rounds):\n",
    "            next_level = []\n",
    "\n",
    "            # For each pair of teams, simulate a game between them\n",
    "            for i in range(0, len(order), 2):\n",
    "                G = Game(order[i], order[i + 1])\n",
    "\n",
    "                # Add the loser to the list of losers this round\n",
    "                level[r].append(G.result['Loser'])\n",
    "\n",
    "                # next_round is the list of teams that advance to the next round\n",
    "                next_level.append(G.result['Winner'])\n",
    "\n",
    "                # If no tournament has been run, all comparisons are new\n",
    "                if self.result is None: \n",
    "                    self.comparisons[G.result['Loser']] += 1\n",
    "                    self.comparisons[G.result['Winner']] += 1\n",
    "                # If the Loser was removed from the bracket, it doesn't count as a new game.\n",
    "                elif G.result['Loser'].rank == float(\"inf\"):\n",
    "                    pass\n",
    "                # If the winner, didn't advance as far before, it must be a new comparison\n",
    "                elif G.result['Winner'].finalResult <= r:\n",
    "                    self.comparisons[G.result['Loser']] += 1\n",
    "                    self.comparisons[G.result['Winner']] += 1\n",
    "                # If the loser didn't lose in this round before, then it must be a new comparison\n",
    "                elif G.result['Loser'] not in self.result[r]:\n",
    "                    self.comparisons[G.result['Loser']] += 1\n",
    "                    self.comparisons[G.result['Winner']] += 1\n",
    "            order = next_level.copy()\n",
    "\n",
    "        # After all the rounds are done, the last team left is the winner\n",
    "        level[self.rounds] = order.copy()\n",
    "        self.result = level\n",
    "        if displayResult:\n",
    "            print(self.result)\n",
    "        winner = level[self.rounds][0]\n",
    "        self.ranking.append(winner)\n",
    "        winner.rank = float(\"inf\")\n",
    "\n",
    "        return winner\n",
    "\n",
    "    def tournamentSort(self):\n",
    "        while len(self.ranking) < len(self.teams):\n",
    "            self.FindWinner()"
   ]
  },
  {
   "cell_type": "markdown",
   "metadata": {},
   "source": [
    "### MergeSort"
   ]
  },
  {
   "cell_type": "code",
   "execution_count": null,
   "metadata": {},
   "outputs": [],
   "source": [
    "result = {\"n\": [], \"Most Comparisons\": [], \"Least Comparisons\": []}\n",
    "m = 500\n",
    "for n in range(100, 1000, 100):\n",
    "    mins = []\n",
    "    maxes = []\n",
    "    for _ in range(m):\n",
    "        test = list(range(n))\n",
    "        comparisons = {x: 0 for x in test}\n",
    "        random.shuffle(test)\n",
    "        mergeSort(test, comparisons)\n",
    "        mins.append(min(comparisons.values()))\n",
    "        maxes.append(max(comparisons.values()))\n",
    "    result[\"n\"].append(n)\n",
    "    result[\"Most Comparisons\"].append(mean(maxes))\n",
    "    result[\"Least Comparisons\"].append(mean(mins))"
   ]
  },
  {
   "cell_type": "code",
   "execution_count": null,
   "metadata": {},
   "outputs": [],
   "source": [
    "df = pd.DataFrame(result)\n",
    "df = df.set_index(\"n\")\n",
    "display(df)\n",
    "px.line(df, title = \"Average Number of Comparisons by Element\", labels = {\"value\": \"Comparisons\"})"
   ]
  },
  {
   "cell_type": "code",
   "execution_count": null,
   "metadata": {},
   "outputs": [],
   "source": [
    "n = 1000\n",
    "m = 250\n",
    "mins = []\n",
    "maxes = []\n",
    "for _ in range(m):\n",
    "    test = list(range(n))\n",
    "    comparisons = {x: 0 for x in test}\n",
    "    random.shuffle(test)\n",
    "    mergeSort(test, comparisons)\n",
    "    mins.append(min(comparisons.values()))\n",
    "    maxes.append(max(comparisons.values()))"
   ]
  },
  {
   "cell_type": "code",
   "execution_count": null,
   "metadata": {},
   "outputs": [],
   "source": [
    "display(px.histogram(pd.Series(maxes, name = \"Max Comparisons\"), title = \"Max Number of Comparisons by Element\"))"
   ]
  },
  {
   "cell_type": "code",
   "execution_count": null,
   "metadata": {},
   "outputs": [],
   "source": [
    "n = 1024\n",
    "test = list(range(n))\n",
    "comparisons = {x: 0 for x in test}\n",
    "random.shuffle(test)\n",
    "mergeSort(test, comparisons)\n",
    "\n",
    "px.histogram(pd.Series(comparisons, name = \"Comparisons\"), title = \"Distribution of Comparisons by Element in MergeSort\")"
   ]
  },
  {
   "cell_type": "markdown",
   "metadata": {},
   "source": [
    "### Tournament Sort"
   ]
  },
  {
   "cell_type": "code",
   "execution_count": null,
   "metadata": {},
   "outputs": [],
   "source": [
    "result = {\"n\": [], \"Most Comparisons\": [], \"Least Comparisons\": []}\n",
    "m = 250\n",
    "\n",
    "for i in range(7, 11):\n",
    "    n = 2**i\n",
    "    mins = []\n",
    "    maxes = []\n",
    "    for _ in range(m):\n",
    "        teams = []\n",
    "        for i in range(n):\n",
    "            teams.append(Team(i, i))\n",
    "        T = Tournament(teams)\n",
    "        T.tournamentSort()\n",
    "        mins.append(min(T.comparisons.values()))\n",
    "        maxes.append(max(T.comparisons.values()))\n",
    "    result[\"n\"].append(n)\n",
    "    result[\"Most Comparisons\"].append(mean(maxes))\n",
    "    result[\"Least Comparisons\"].append(mean(mins))"
   ]
  },
  {
   "cell_type": "code",
   "execution_count": null,
   "metadata": {},
   "outputs": [],
   "source": [
    "df = pd.DataFrame(result)\n",
    "df = df.set_index(\"n\")\n",
    "display(df)\n",
    "px.line(df, title = \"Average Number of Comparisons by Element\", labels = {\"value\": \"Comparisons\"})"
   ]
  },
  {
   "cell_type": "code",
   "execution_count": null,
   "metadata": {},
   "outputs": [],
   "source": [
    "n = 1024\n",
    "m = 250\n",
    "mins = []\n",
    "maxes = []\n",
    "for _ in range(m):\n",
    "        teams = []\n",
    "        for i in range(n):\n",
    "            teams.append(Team(i, i))\n",
    "        T = Tournament(teams)\n",
    "        T.tournamentSort()\n",
    "        mins.append(min(T.comparisons.values()))\n",
    "        maxes.append(max(T.comparisons.values()))"
   ]
  },
  {
   "cell_type": "code",
   "execution_count": null,
   "metadata": {},
   "outputs": [],
   "source": [
    "display(px.histogram(pd.Series(maxes, name = \"Max Comparisons\"), title = \"Max Number of Comparisons by Element\"))"
   ]
  },
  {
   "cell_type": "code",
   "execution_count": null,
   "metadata": {},
   "outputs": [],
   "source": [
    "n = 1024\n",
    "teams = []\n",
    "for i in range(n):\n",
    "    teams.append(Team(i, i))\n",
    "T = Tournament(teams)\n",
    "T.tournamentSort()\n",
    "\n",
    "px.histogram(pd.Series(T.comparisons, name = \"Comparisons\"), title = \"Distribution of Comparisons by Element in Tournament Sort\")"
   ]
  }
 ],
 "metadata": {
  "kernelspec": {
   "display_name": "base",
   "language": "python",
   "name": "python3"
  },
  "language_info": {
   "codemirror_mode": {
    "name": "ipython",
    "version": 3
   },
   "file_extension": ".py",
   "mimetype": "text/x-python",
   "name": "python",
   "nbconvert_exporter": "python",
   "pygments_lexer": "ipython3",
   "version": "3.10.9"
  }
 },
 "nbformat": 4,
 "nbformat_minor": 2
}
