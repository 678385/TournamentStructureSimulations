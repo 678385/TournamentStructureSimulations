{
 "cells": [
  {
   "cell_type": "code",
   "execution_count": 3,
   "metadata": {},
   "outputs": [],
   "source": [
    "import random\n",
    "import pandas as pd\n",
    "from statistics import mean\n",
    "import plotly.express as px\n",
    "import numpy as np"
   ]
  },
  {
   "cell_type": "code",
   "execution_count": 4,
   "metadata": {},
   "outputs": [],
   "source": [
    "def merge(l, r, comparisons):\n",
    "    final = []\n",
    "    left_counter = 0\n",
    "    right_counter = 0\n",
    "    while right_counter < len(r) and left_counter < len(l):\n",
    "        comparisons[l[left_counter]] += 1\n",
    "        comparisons[r[right_counter]] += 1\n",
    "        if l[left_counter] <= r[right_counter]:\n",
    "            final.append(l[left_counter])\n",
    "            left_counter += 1\n",
    "        else:\n",
    "            final.append(r[right_counter])\n",
    "            right_counter += 1\n",
    "    if right_counter == len(r):\n",
    "        final = final + l[left_counter:]\n",
    "    else:\n",
    "        final = final + r[right_counter:]\n",
    "    return final\n",
    "\n",
    "def mergeSort(x, comparisons):\n",
    "    if len(x) == 2:\n",
    "        comparisons[min(x)] += 1\n",
    "        comparisons[max(x)] += 1\n",
    "        return [min(x), max(x)]\n",
    "    elif len(x) == 1:\n",
    "        return x\n",
    "    else:\n",
    "        midpoint = int(len(x)/2)\n",
    "        l = mergeSort(x[:midpoint], comparisons)\n",
    "        r = mergeSort(x[midpoint:], comparisons)\n",
    "    return merge(l, r, comparisons)"
   ]
  },
  {
   "cell_type": "code",
   "execution_count": 5,
   "metadata": {},
   "outputs": [],
   "source": [
    "class Team():\n",
    "    def __init__(self, name, rank):\n",
    "        self.name = name\n",
    "        self.rank = rank\n",
    "        self.expectedResult = None\n",
    "        self.finalResult = None\n",
    "    \n",
    "    def __repr__(self):\n",
    "        return f\"Team {self.name}\"\n",
    "\n",
    "class Game():\n",
    "    def __init__(self, team1, team2):\n",
    "        self.team1 = team1\n",
    "        self.team2 = team2\n",
    "        self.result = self.GetWinnerAndLoser()\n",
    "\n",
    "    def GetWinnerAndLoser(self):\n",
    "        if self.team1.rank < self.team2.rank:\n",
    "            return {\"Winner\": self.team1, \"Loser\": self.team2}\n",
    "        else:\n",
    "            return {\"Winner\": self.team2, \"Loser\": self.team1}\n",
    "    \n",
    "    def __repr__(self):\n",
    "        return str(self.result)\n",
    "\n",
    "class Tournament():\n",
    "    def __init__(self, teams):\n",
    "        self.teams = teams\n",
    "        self.result = None\n",
    "        self.rounds = int(np.log2(len(self.teams)))\n",
    "\n",
    "        # random initial bracket\n",
    "        self.order = random.sample(self.teams, len(self.teams))\n",
    "        self.ranking = []\n",
    "        self.comparisons = {t: 0 for t in self.teams}\n",
    "    \n",
    "    def FindWinner(self, displayResult = False):\n",
    "        # Set where the teams finished in the previous knockout bracket\n",
    "        if self.result is not None:\n",
    "            finalResult = {t:k for k in self.result.keys() for t in self.result[k]}\n",
    "            for t in self.teams:\n",
    "                t.finalResult = finalResult[t]\n",
    "        \n",
    "        order = self.order.copy()\n",
    "        level = {_: [] for _ in range(self.rounds+1)}\n",
    "\n",
    "        for r in range(self.rounds):\n",
    "            next_level = []\n",
    "\n",
    "            # For each pair of teams, simulate a game between them\n",
    "            for i in range(0, len(order), 2):\n",
    "                G = Game(order[i], order[i + 1])\n",
    "\n",
    "                # Add the loser to the list of losers this round\n",
    "                level[r].append(G.result['Loser'])\n",
    "\n",
    "                # next_round is the list of teams that advance to the next round\n",
    "                next_level.append(G.result['Winner'])\n",
    "\n",
    "                # If no tournament has been run, all comparisons are new\n",
    "                if self.result is None: \n",
    "                    self.comparisons[G.result['Loser']] += 1\n",
    "                    self.comparisons[G.result['Winner']] += 1\n",
    "                # If the Loser was removed from the bracket, it doesn't count as a new game.\n",
    "                elif G.result['Loser'].rank == float(\"inf\"):\n",
    "                    pass\n",
    "                # If the winner, didn't advance as far before, it must be a new comparison\n",
    "                elif G.result['Winner'].finalResult <= r:\n",
    "                    self.comparisons[G.result['Loser']] += 1\n",
    "                    self.comparisons[G.result['Winner']] += 1\n",
    "                # If the loser didn't lose in this round before, then it must be a new comparison\n",
    "                elif G.result['Loser'] not in self.result[r]:\n",
    "                    self.comparisons[G.result['Loser']] += 1\n",
    "                    self.comparisons[G.result['Winner']] += 1\n",
    "            order = next_level.copy()\n",
    "\n",
    "        # After all the rounds are done, the last team left is the winner\n",
    "        level[self.rounds] = order.copy()\n",
    "        self.result = level\n",
    "        if displayResult:\n",
    "            print(self.result)\n",
    "        winner = level[self.rounds][0]\n",
    "        self.ranking.append(winner)\n",
    "        winner.rank = float(\"inf\")\n",
    "\n",
    "        return winner\n",
    "\n",
    "    def tournamentSort(self):\n",
    "        while len(self.ranking) < len(self.teams):\n",
    "            self.FindWinner()"
   ]
  },
  {
   "cell_type": "markdown",
   "metadata": {},
   "source": [
    "### MergeSort"
   ]
  },
  {
   "cell_type": "code",
   "execution_count": 160,
   "metadata": {},
   "outputs": [],
   "source": [
    "result = {\"n\": [], \"Most Comparisons\": [], \"Least Comparisons\": []}\n",
    "m = 500\n",
    "for n in range(100, 1000, 100):\n",
    "    mins = []\n",
    "    maxes = []\n",
    "    for _ in range(m):\n",
    "        test = list(range(n))\n",
    "        comparisons = {x: 0 for x in test}\n",
    "        random.shuffle(test)\n",
    "        mergeSort(test, comparisons)\n",
    "        mins.append(min(comparisons.values()))\n",
    "        maxes.append(max(comparisons.values()))\n",
    "    result[\"n\"].append(n)\n",
    "    result[\"Most Comparisons\"].append(mean(maxes))\n",
    "    result[\"Least Comparisons\"].append(mean(mins))"
   ]
  },
  {
   "cell_type": "code",
   "execution_count": 161,
   "metadata": {},
   "outputs": [
    {
     "data": {
      "text/html": [
       "<div>\n",
       "<style scoped>\n",
       "    .dataframe tbody tr th:only-of-type {\n",
       "        vertical-align: middle;\n",
       "    }\n",
       "\n",
       "    .dataframe tbody tr th {\n",
       "        vertical-align: top;\n",
       "    }\n",
       "\n",
       "    .dataframe thead th {\n",
       "        text-align: right;\n",
       "    }\n",
       "</style>\n",
       "<table border=\"1\" class=\"dataframe\">\n",
       "  <thead>\n",
       "    <tr style=\"text-align: right;\">\n",
       "      <th></th>\n",
       "      <th>Most Comparisons</th>\n",
       "      <th>Least Comparisons</th>\n",
       "    </tr>\n",
       "    <tr>\n",
       "      <th>n</th>\n",
       "      <th></th>\n",
       "      <th></th>\n",
       "    </tr>\n",
       "  </thead>\n",
       "  <tbody>\n",
       "    <tr>\n",
       "      <th>100</th>\n",
       "      <td>19.490</td>\n",
       "      <td>4.470</td>\n",
       "    </tr>\n",
       "    <tr>\n",
       "      <th>200</th>\n",
       "      <td>23.834</td>\n",
       "      <td>5.030</td>\n",
       "    </tr>\n",
       "    <tr>\n",
       "      <th>300</th>\n",
       "      <td>26.288</td>\n",
       "      <td>5.402</td>\n",
       "    </tr>\n",
       "    <tr>\n",
       "      <th>400</th>\n",
       "      <td>27.896</td>\n",
       "      <td>5.592</td>\n",
       "    </tr>\n",
       "    <tr>\n",
       "      <th>500</th>\n",
       "      <td>29.120</td>\n",
       "      <td>5.720</td>\n",
       "    </tr>\n",
       "    <tr>\n",
       "      <th>600</th>\n",
       "      <td>30.462</td>\n",
       "      <td>5.898</td>\n",
       "    </tr>\n",
       "    <tr>\n",
       "      <th>700</th>\n",
       "      <td>31.366</td>\n",
       "      <td>6.014</td>\n",
       "    </tr>\n",
       "    <tr>\n",
       "      <th>800</th>\n",
       "      <td>32.032</td>\n",
       "      <td>6.180</td>\n",
       "    </tr>\n",
       "    <tr>\n",
       "      <th>900</th>\n",
       "      <td>32.898</td>\n",
       "      <td>6.220</td>\n",
       "    </tr>\n",
       "  </tbody>\n",
       "</table>\n",
       "</div>"
      ],
      "text/plain": [
       "     Most Comparisons  Least Comparisons\n",
       "n                                       \n",
       "100            19.490              4.470\n",
       "200            23.834              5.030\n",
       "300            26.288              5.402\n",
       "400            27.896              5.592\n",
       "500            29.120              5.720\n",
       "600            30.462              5.898\n",
       "700            31.366              6.014\n",
       "800            32.032              6.180\n",
       "900            32.898              6.220"
      ]
     },
     "metadata": {},
     "output_type": "display_data"
    },
    {
     "data": {
      "application/vnd.plotly.v1+json": {
       "config": {
        "plotlyServerURL": "https://plot.ly"
       },
       "data": [
        {
         "hovertemplate": "variable=Most Comparisons<br>n=%{x}<br>Comparisons=%{y}<extra></extra>",
         "legendgroup": "Most Comparisons",
         "line": {
          "color": "#636efa",
          "dash": "solid"
         },
         "marker": {
          "symbol": "circle"
         },
         "mode": "lines",
         "name": "Most Comparisons",
         "orientation": "v",
         "showlegend": true,
         "type": "scatter",
         "x": [
          100,
          200,
          300,
          400,
          500,
          600,
          700,
          800,
          900
         ],
         "xaxis": "x",
         "y": [
          19.49,
          23.834,
          26.288,
          27.896,
          29.12,
          30.462,
          31.366,
          32.032,
          32.898
         ],
         "yaxis": "y"
        },
        {
         "hovertemplate": "variable=Least Comparisons<br>n=%{x}<br>Comparisons=%{y}<extra></extra>",
         "legendgroup": "Least Comparisons",
         "line": {
          "color": "#EF553B",
          "dash": "solid"
         },
         "marker": {
          "symbol": "circle"
         },
         "mode": "lines",
         "name": "Least Comparisons",
         "orientation": "v",
         "showlegend": true,
         "type": "scatter",
         "x": [
          100,
          200,
          300,
          400,
          500,
          600,
          700,
          800,
          900
         ],
         "xaxis": "x",
         "y": [
          4.47,
          5.03,
          5.402,
          5.592,
          5.72,
          5.898,
          6.014,
          6.18,
          6.22
         ],
         "yaxis": "y"
        }
       ],
       "layout": {
        "legend": {
         "title": {
          "text": "variable"
         },
         "tracegroupgap": 0
        },
        "template": {
         "data": {
          "bar": [
           {
            "error_x": {
             "color": "#2a3f5f"
            },
            "error_y": {
             "color": "#2a3f5f"
            },
            "marker": {
             "line": {
              "color": "#E5ECF6",
              "width": 0.5
             },
             "pattern": {
              "fillmode": "overlay",
              "size": 10,
              "solidity": 0.2
             }
            },
            "type": "bar"
           }
          ],
          "barpolar": [
           {
            "marker": {
             "line": {
              "color": "#E5ECF6",
              "width": 0.5
             },
             "pattern": {
              "fillmode": "overlay",
              "size": 10,
              "solidity": 0.2
             }
            },
            "type": "barpolar"
           }
          ],
          "carpet": [
           {
            "aaxis": {
             "endlinecolor": "#2a3f5f",
             "gridcolor": "white",
             "linecolor": "white",
             "minorgridcolor": "white",
             "startlinecolor": "#2a3f5f"
            },
            "baxis": {
             "endlinecolor": "#2a3f5f",
             "gridcolor": "white",
             "linecolor": "white",
             "minorgridcolor": "white",
             "startlinecolor": "#2a3f5f"
            },
            "type": "carpet"
           }
          ],
          "choropleth": [
           {
            "colorbar": {
             "outlinewidth": 0,
             "ticks": ""
            },
            "type": "choropleth"
           }
          ],
          "contour": [
           {
            "colorbar": {
             "outlinewidth": 0,
             "ticks": ""
            },
            "colorscale": [
             [
              0,
              "#0d0887"
             ],
             [
              0.1111111111111111,
              "#46039f"
             ],
             [
              0.2222222222222222,
              "#7201a8"
             ],
             [
              0.3333333333333333,
              "#9c179e"
             ],
             [
              0.4444444444444444,
              "#bd3786"
             ],
             [
              0.5555555555555556,
              "#d8576b"
             ],
             [
              0.6666666666666666,
              "#ed7953"
             ],
             [
              0.7777777777777778,
              "#fb9f3a"
             ],
             [
              0.8888888888888888,
              "#fdca26"
             ],
             [
              1,
              "#f0f921"
             ]
            ],
            "type": "contour"
           }
          ],
          "contourcarpet": [
           {
            "colorbar": {
             "outlinewidth": 0,
             "ticks": ""
            },
            "type": "contourcarpet"
           }
          ],
          "heatmap": [
           {
            "colorbar": {
             "outlinewidth": 0,
             "ticks": ""
            },
            "colorscale": [
             [
              0,
              "#0d0887"
             ],
             [
              0.1111111111111111,
              "#46039f"
             ],
             [
              0.2222222222222222,
              "#7201a8"
             ],
             [
              0.3333333333333333,
              "#9c179e"
             ],
             [
              0.4444444444444444,
              "#bd3786"
             ],
             [
              0.5555555555555556,
              "#d8576b"
             ],
             [
              0.6666666666666666,
              "#ed7953"
             ],
             [
              0.7777777777777778,
              "#fb9f3a"
             ],
             [
              0.8888888888888888,
              "#fdca26"
             ],
             [
              1,
              "#f0f921"
             ]
            ],
            "type": "heatmap"
           }
          ],
          "heatmapgl": [
           {
            "colorbar": {
             "outlinewidth": 0,
             "ticks": ""
            },
            "colorscale": [
             [
              0,
              "#0d0887"
             ],
             [
              0.1111111111111111,
              "#46039f"
             ],
             [
              0.2222222222222222,
              "#7201a8"
             ],
             [
              0.3333333333333333,
              "#9c179e"
             ],
             [
              0.4444444444444444,
              "#bd3786"
             ],
             [
              0.5555555555555556,
              "#d8576b"
             ],
             [
              0.6666666666666666,
              "#ed7953"
             ],
             [
              0.7777777777777778,
              "#fb9f3a"
             ],
             [
              0.8888888888888888,
              "#fdca26"
             ],
             [
              1,
              "#f0f921"
             ]
            ],
            "type": "heatmapgl"
           }
          ],
          "histogram": [
           {
            "marker": {
             "pattern": {
              "fillmode": "overlay",
              "size": 10,
              "solidity": 0.2
             }
            },
            "type": "histogram"
           }
          ],
          "histogram2d": [
           {
            "colorbar": {
             "outlinewidth": 0,
             "ticks": ""
            },
            "colorscale": [
             [
              0,
              "#0d0887"
             ],
             [
              0.1111111111111111,
              "#46039f"
             ],
             [
              0.2222222222222222,
              "#7201a8"
             ],
             [
              0.3333333333333333,
              "#9c179e"
             ],
             [
              0.4444444444444444,
              "#bd3786"
             ],
             [
              0.5555555555555556,
              "#d8576b"
             ],
             [
              0.6666666666666666,
              "#ed7953"
             ],
             [
              0.7777777777777778,
              "#fb9f3a"
             ],
             [
              0.8888888888888888,
              "#fdca26"
             ],
             [
              1,
              "#f0f921"
             ]
            ],
            "type": "histogram2d"
           }
          ],
          "histogram2dcontour": [
           {
            "colorbar": {
             "outlinewidth": 0,
             "ticks": ""
            },
            "colorscale": [
             [
              0,
              "#0d0887"
             ],
             [
              0.1111111111111111,
              "#46039f"
             ],
             [
              0.2222222222222222,
              "#7201a8"
             ],
             [
              0.3333333333333333,
              "#9c179e"
             ],
             [
              0.4444444444444444,
              "#bd3786"
             ],
             [
              0.5555555555555556,
              "#d8576b"
             ],
             [
              0.6666666666666666,
              "#ed7953"
             ],
             [
              0.7777777777777778,
              "#fb9f3a"
             ],
             [
              0.8888888888888888,
              "#fdca26"
             ],
             [
              1,
              "#f0f921"
             ]
            ],
            "type": "histogram2dcontour"
           }
          ],
          "mesh3d": [
           {
            "colorbar": {
             "outlinewidth": 0,
             "ticks": ""
            },
            "type": "mesh3d"
           }
          ],
          "parcoords": [
           {
            "line": {
             "colorbar": {
              "outlinewidth": 0,
              "ticks": ""
             }
            },
            "type": "parcoords"
           }
          ],
          "pie": [
           {
            "automargin": true,
            "type": "pie"
           }
          ],
          "scatter": [
           {
            "fillpattern": {
             "fillmode": "overlay",
             "size": 10,
             "solidity": 0.2
            },
            "type": "scatter"
           }
          ],
          "scatter3d": [
           {
            "line": {
             "colorbar": {
              "outlinewidth": 0,
              "ticks": ""
             }
            },
            "marker": {
             "colorbar": {
              "outlinewidth": 0,
              "ticks": ""
             }
            },
            "type": "scatter3d"
           }
          ],
          "scattercarpet": [
           {
            "marker": {
             "colorbar": {
              "outlinewidth": 0,
              "ticks": ""
             }
            },
            "type": "scattercarpet"
           }
          ],
          "scattergeo": [
           {
            "marker": {
             "colorbar": {
              "outlinewidth": 0,
              "ticks": ""
             }
            },
            "type": "scattergeo"
           }
          ],
          "scattergl": [
           {
            "marker": {
             "colorbar": {
              "outlinewidth": 0,
              "ticks": ""
             }
            },
            "type": "scattergl"
           }
          ],
          "scattermapbox": [
           {
            "marker": {
             "colorbar": {
              "outlinewidth": 0,
              "ticks": ""
             }
            },
            "type": "scattermapbox"
           }
          ],
          "scatterpolar": [
           {
            "marker": {
             "colorbar": {
              "outlinewidth": 0,
              "ticks": ""
             }
            },
            "type": "scatterpolar"
           }
          ],
          "scatterpolargl": [
           {
            "marker": {
             "colorbar": {
              "outlinewidth": 0,
              "ticks": ""
             }
            },
            "type": "scatterpolargl"
           }
          ],
          "scatterternary": [
           {
            "marker": {
             "colorbar": {
              "outlinewidth": 0,
              "ticks": ""
             }
            },
            "type": "scatterternary"
           }
          ],
          "surface": [
           {
            "colorbar": {
             "outlinewidth": 0,
             "ticks": ""
            },
            "colorscale": [
             [
              0,
              "#0d0887"
             ],
             [
              0.1111111111111111,
              "#46039f"
             ],
             [
              0.2222222222222222,
              "#7201a8"
             ],
             [
              0.3333333333333333,
              "#9c179e"
             ],
             [
              0.4444444444444444,
              "#bd3786"
             ],
             [
              0.5555555555555556,
              "#d8576b"
             ],
             [
              0.6666666666666666,
              "#ed7953"
             ],
             [
              0.7777777777777778,
              "#fb9f3a"
             ],
             [
              0.8888888888888888,
              "#fdca26"
             ],
             [
              1,
              "#f0f921"
             ]
            ],
            "type": "surface"
           }
          ],
          "table": [
           {
            "cells": {
             "fill": {
              "color": "#EBF0F8"
             },
             "line": {
              "color": "white"
             }
            },
            "header": {
             "fill": {
              "color": "#C8D4E3"
             },
             "line": {
              "color": "white"
             }
            },
            "type": "table"
           }
          ]
         },
         "layout": {
          "annotationdefaults": {
           "arrowcolor": "#2a3f5f",
           "arrowhead": 0,
           "arrowwidth": 1
          },
          "autotypenumbers": "strict",
          "coloraxis": {
           "colorbar": {
            "outlinewidth": 0,
            "ticks": ""
           }
          },
          "colorscale": {
           "diverging": [
            [
             0,
             "#8e0152"
            ],
            [
             0.1,
             "#c51b7d"
            ],
            [
             0.2,
             "#de77ae"
            ],
            [
             0.3,
             "#f1b6da"
            ],
            [
             0.4,
             "#fde0ef"
            ],
            [
             0.5,
             "#f7f7f7"
            ],
            [
             0.6,
             "#e6f5d0"
            ],
            [
             0.7,
             "#b8e186"
            ],
            [
             0.8,
             "#7fbc41"
            ],
            [
             0.9,
             "#4d9221"
            ],
            [
             1,
             "#276419"
            ]
           ],
           "sequential": [
            [
             0,
             "#0d0887"
            ],
            [
             0.1111111111111111,
             "#46039f"
            ],
            [
             0.2222222222222222,
             "#7201a8"
            ],
            [
             0.3333333333333333,
             "#9c179e"
            ],
            [
             0.4444444444444444,
             "#bd3786"
            ],
            [
             0.5555555555555556,
             "#d8576b"
            ],
            [
             0.6666666666666666,
             "#ed7953"
            ],
            [
             0.7777777777777778,
             "#fb9f3a"
            ],
            [
             0.8888888888888888,
             "#fdca26"
            ],
            [
             1,
             "#f0f921"
            ]
           ],
           "sequentialminus": [
            [
             0,
             "#0d0887"
            ],
            [
             0.1111111111111111,
             "#46039f"
            ],
            [
             0.2222222222222222,
             "#7201a8"
            ],
            [
             0.3333333333333333,
             "#9c179e"
            ],
            [
             0.4444444444444444,
             "#bd3786"
            ],
            [
             0.5555555555555556,
             "#d8576b"
            ],
            [
             0.6666666666666666,
             "#ed7953"
            ],
            [
             0.7777777777777778,
             "#fb9f3a"
            ],
            [
             0.8888888888888888,
             "#fdca26"
            ],
            [
             1,
             "#f0f921"
            ]
           ]
          },
          "colorway": [
           "#636efa",
           "#EF553B",
           "#00cc96",
           "#ab63fa",
           "#FFA15A",
           "#19d3f3",
           "#FF6692",
           "#B6E880",
           "#FF97FF",
           "#FECB52"
          ],
          "font": {
           "color": "#2a3f5f"
          },
          "geo": {
           "bgcolor": "white",
           "lakecolor": "white",
           "landcolor": "#E5ECF6",
           "showlakes": true,
           "showland": true,
           "subunitcolor": "white"
          },
          "hoverlabel": {
           "align": "left"
          },
          "hovermode": "closest",
          "mapbox": {
           "style": "light"
          },
          "paper_bgcolor": "white",
          "plot_bgcolor": "#E5ECF6",
          "polar": {
           "angularaxis": {
            "gridcolor": "white",
            "linecolor": "white",
            "ticks": ""
           },
           "bgcolor": "#E5ECF6",
           "radialaxis": {
            "gridcolor": "white",
            "linecolor": "white",
            "ticks": ""
           }
          },
          "scene": {
           "xaxis": {
            "backgroundcolor": "#E5ECF6",
            "gridcolor": "white",
            "gridwidth": 2,
            "linecolor": "white",
            "showbackground": true,
            "ticks": "",
            "zerolinecolor": "white"
           },
           "yaxis": {
            "backgroundcolor": "#E5ECF6",
            "gridcolor": "white",
            "gridwidth": 2,
            "linecolor": "white",
            "showbackground": true,
            "ticks": "",
            "zerolinecolor": "white"
           },
           "zaxis": {
            "backgroundcolor": "#E5ECF6",
            "gridcolor": "white",
            "gridwidth": 2,
            "linecolor": "white",
            "showbackground": true,
            "ticks": "",
            "zerolinecolor": "white"
           }
          },
          "shapedefaults": {
           "line": {
            "color": "#2a3f5f"
           }
          },
          "ternary": {
           "aaxis": {
            "gridcolor": "white",
            "linecolor": "white",
            "ticks": ""
           },
           "baxis": {
            "gridcolor": "white",
            "linecolor": "white",
            "ticks": ""
           },
           "bgcolor": "#E5ECF6",
           "caxis": {
            "gridcolor": "white",
            "linecolor": "white",
            "ticks": ""
           }
          },
          "title": {
           "x": 0.05
          },
          "xaxis": {
           "automargin": true,
           "gridcolor": "white",
           "linecolor": "white",
           "ticks": "",
           "title": {
            "standoff": 15
           },
           "zerolinecolor": "white",
           "zerolinewidth": 2
          },
          "yaxis": {
           "automargin": true,
           "gridcolor": "white",
           "linecolor": "white",
           "ticks": "",
           "title": {
            "standoff": 15
           },
           "zerolinecolor": "white",
           "zerolinewidth": 2
          }
         }
        },
        "title": {
         "text": "Average Number of Comparisons by Element"
        },
        "xaxis": {
         "anchor": "y",
         "domain": [
          0,
          1
         ],
         "title": {
          "text": "n"
         }
        },
        "yaxis": {
         "anchor": "x",
         "domain": [
          0,
          1
         ],
         "title": {
          "text": "Comparisons"
         }
        }
       }
      }
     },
     "metadata": {},
     "output_type": "display_data"
    }
   ],
   "source": [
    "df = pd.DataFrame(result)\n",
    "df = df.set_index(\"n\")\n",
    "display(df)\n",
    "px.line(df, title = \"Average Number of Comparisons by Element\", labels = {\"value\": \"Comparisons\"})"
   ]
  },
  {
   "cell_type": "code",
   "execution_count": 162,
   "metadata": {},
   "outputs": [],
   "source": [
    "n = 10000\n",
    "m = 2000\n",
    "mins = []\n",
    "maxes = []\n",
    "for _ in range(m):\n",
    "    test = list(range(n))\n",
    "    comparisons = {x: 0 for x in test}\n",
    "    random.shuffle(test)\n",
    "    mergeSort(test, comparisons)\n",
    "    mins.append(min(comparisons.values()))\n",
    "    maxes.append(max(comparisons.values()))"
   ]
  },
  {
   "cell_type": "code",
   "execution_count": 163,
   "metadata": {},
   "outputs": [
    {
     "data": {
      "application/vnd.plotly.v1+json": {
       "config": {
        "plotlyServerURL": "https://plot.ly"
       },
       "data": [
        {
         "alignmentgroup": "True",
         "bingroup": "x",
         "hovertemplate": "variable=Max Comparisons<br>value=%{x}<br>count=%{y}<extra></extra>",
         "legendgroup": "Max Comparisons",
         "marker": {
          "color": "#636efa",
          "pattern": {
           "shape": ""
          }
         },
         "name": "Max Comparisons",
         "offsetgroup": "Max Comparisons",
         "orientation": "v",
         "showlegend": true,
         "type": "histogram",
         "x": [
          46,
          47,
          50,
          48,
          49,
          51,
          46,
          48,
          45,
          48,
          50,
          50,
          45,
          48,
          49,
          49,
          45,
          48,
          48,
          46,
          44,
          50,
          51,
          45,
          44,
          49,
          53,
          55,
          48,
          48,
          47,
          45,
          47,
          48,
          50,
          47,
          50,
          48,
          49,
          49,
          51,
          53,
          49,
          45,
          48,
          51,
          45,
          49,
          49,
          52,
          47,
          46,
          49,
          46,
          46,
          46,
          46,
          52,
          49,
          46,
          49,
          52,
          44,
          46,
          51,
          48,
          45,
          50,
          46,
          51,
          45,
          49,
          45,
          47,
          45,
          46,
          46,
          45,
          45,
          47,
          47,
          45,
          46,
          49,
          47,
          51,
          46,
          45,
          46,
          45,
          47,
          47,
          49,
          48,
          49,
          51,
          45,
          45,
          46,
          48,
          51,
          47,
          49,
          47,
          46,
          48,
          45,
          47,
          46,
          46,
          47,
          50,
          47,
          47,
          47,
          50,
          51,
          46,
          50,
          48,
          47,
          49,
          48,
          47,
          48,
          48,
          51,
          45,
          45,
          46,
          51,
          50,
          46,
          50,
          48,
          50,
          52,
          50,
          45,
          48,
          46,
          42,
          50,
          49,
          45,
          45,
          51,
          50,
          47,
          47,
          45,
          46,
          46,
          48,
          48,
          49,
          48,
          47,
          45,
          47,
          53,
          52,
          49,
          45,
          51,
          50,
          50,
          46,
          53,
          48,
          47,
          49,
          49,
          46,
          48,
          49,
          47,
          48,
          45,
          51,
          45,
          50,
          46,
          47,
          52,
          48,
          44,
          46,
          48,
          49,
          45,
          56,
          50,
          45,
          48,
          47,
          44,
          51,
          46,
          50,
          51,
          48,
          50,
          48,
          48,
          47,
          46,
          52,
          49,
          47,
          49,
          49,
          48,
          45,
          45,
          46,
          50,
          48,
          47,
          44,
          49,
          52,
          48,
          48,
          49,
          48,
          45,
          45,
          49,
          49,
          47,
          45,
          47,
          47,
          50,
          49,
          46,
          49,
          46,
          52,
          49,
          49,
          48,
          45,
          50,
          45,
          48,
          47,
          48,
          52,
          48,
          48,
          53,
          49,
          48,
          49,
          52,
          48,
          49,
          47,
          47,
          47,
          44,
          46,
          47,
          49,
          45,
          50,
          45,
          47,
          47,
          46,
          47,
          51,
          48,
          51,
          49,
          46,
          51,
          45,
          48,
          48,
          46,
          46,
          51,
          47,
          47,
          44,
          47,
          46,
          49,
          52,
          56,
          48,
          49,
          47,
          46,
          46,
          44,
          49,
          48,
          49,
          50,
          48,
          47,
          50,
          43,
          45,
          48,
          46,
          47,
          46,
          50,
          47,
          46,
          46,
          47,
          45,
          48,
          51,
          50,
          48,
          46,
          51,
          50,
          55,
          55,
          51,
          43,
          46,
          49,
          46,
          44,
          48,
          46,
          46,
          47,
          45,
          54,
          47,
          46,
          51,
          48,
          49,
          46,
          50,
          46,
          46,
          50,
          52,
          46,
          45,
          47,
          47,
          51,
          51,
          46,
          47,
          44,
          46,
          46,
          47,
          47,
          47,
          51,
          46,
          45,
          49,
          45,
          51,
          48,
          49,
          49,
          52,
          46,
          45,
          46,
          50,
          46,
          50,
          44,
          48,
          46,
          47,
          47,
          49,
          52,
          45,
          49,
          47,
          45,
          44,
          48,
          52,
          46,
          45,
          48,
          49,
          46,
          47,
          46,
          49,
          46,
          44,
          47,
          45,
          50,
          48,
          49,
          50,
          46,
          47,
          47,
          47,
          53,
          50,
          46,
          45,
          48,
          51,
          49,
          50,
          46,
          51,
          49,
          50,
          48,
          55,
          48,
          48,
          46,
          45,
          47,
          49,
          48,
          47,
          48,
          49,
          53,
          47,
          59,
          46,
          46,
          50,
          49,
          50,
          49,
          48,
          47,
          45,
          47,
          51,
          45,
          51,
          53,
          46,
          47,
          44,
          52,
          47,
          49,
          46,
          48,
          45,
          47,
          47,
          47,
          47,
          49,
          48,
          49,
          48,
          44,
          48,
          49,
          52,
          46,
          61,
          48,
          52,
          49,
          51,
          50,
          45,
          46,
          50,
          47,
          46,
          47,
          43,
          47,
          48,
          46,
          45,
          47,
          47,
          53,
          50,
          51,
          44,
          47,
          52,
          49,
          47,
          50,
          50,
          52,
          49,
          49,
          51,
          52,
          48,
          48,
          45,
          48,
          48,
          44,
          50,
          46,
          49,
          49,
          45,
          48,
          46,
          57,
          47,
          46,
          46,
          46,
          44,
          47,
          47,
          48,
          46,
          47,
          45,
          46,
          47,
          46,
          54,
          48,
          46,
          54,
          50,
          49,
          50,
          46,
          50,
          44,
          45,
          44,
          47,
          44,
          52,
          52,
          47,
          44,
          52,
          44,
          52,
          48,
          46,
          46,
          48,
          45,
          48,
          51,
          45,
          47,
          52,
          44,
          45,
          50,
          46,
          49,
          52,
          51,
          46,
          46,
          49,
          48,
          49,
          46,
          48,
          47,
          53,
          45,
          50,
          49,
          47,
          46,
          50,
          48,
          51,
          48,
          44,
          52,
          44,
          45,
          50,
          50,
          49,
          44,
          48,
          46,
          47,
          50,
          47,
          43,
          48,
          48,
          47,
          51,
          48,
          47,
          49,
          52,
          46,
          47,
          45,
          50,
          45,
          43,
          46,
          46,
          45,
          50,
          46,
          48,
          51,
          50,
          46,
          43,
          45,
          48,
          52,
          45,
          49,
          56,
          45,
          52,
          49,
          46,
          47,
          47,
          53,
          47,
          46,
          53,
          49,
          46,
          51,
          53,
          47,
          47,
          51,
          47,
          48,
          49,
          47,
          46,
          45,
          45,
          46,
          48,
          49,
          50,
          56,
          53,
          45,
          46,
          44,
          46,
          52,
          50,
          50,
          46,
          49,
          44,
          46,
          49,
          46,
          46,
          47,
          47,
          47,
          45,
          50,
          56,
          49,
          47,
          47,
          46,
          47,
          48,
          45,
          48,
          46,
          46,
          45,
          43,
          51,
          46,
          47,
          49,
          49,
          45,
          45,
          45,
          48,
          50,
          52,
          49,
          48,
          46,
          43,
          48,
          47,
          47,
          47,
          46,
          46,
          49,
          50,
          55,
          49,
          47,
          48,
          48,
          50,
          47,
          46,
          46,
          46,
          46,
          44,
          44,
          47,
          48,
          46,
          47,
          54,
          47,
          46,
          46,
          46,
          50,
          46,
          47,
          48,
          47,
          48,
          47,
          48,
          46,
          45,
          44,
          48,
          45,
          46,
          45,
          49,
          48,
          49,
          47,
          54,
          44,
          47,
          47,
          49,
          48,
          48,
          46,
          49,
          47,
          52,
          45,
          48,
          49,
          47,
          47,
          48,
          53,
          43,
          48,
          52,
          46,
          51,
          50,
          47,
          49,
          51,
          48,
          47,
          49,
          46,
          46,
          47,
          51,
          56,
          45,
          48,
          46,
          46,
          50,
          47,
          48,
          50,
          47,
          51,
          49,
          47,
          45,
          49,
          51,
          47,
          45,
          50,
          46,
          46,
          46,
          49,
          44,
          45,
          45,
          45,
          48,
          48,
          49,
          49,
          50,
          48,
          47,
          50,
          47,
          47,
          48,
          48,
          45,
          44,
          45,
          50,
          47,
          44,
          48,
          45,
          50,
          48,
          48,
          45,
          47,
          46,
          46,
          49,
          48,
          55,
          47,
          48,
          44,
          45,
          51,
          47,
          47,
          48,
          51,
          47,
          55,
          52,
          50,
          53,
          49,
          45,
          47,
          50,
          44,
          54,
          48,
          52,
          46,
          46,
          47,
          51,
          46,
          46,
          44,
          52,
          48,
          48,
          50,
          46,
          47,
          47,
          45,
          45,
          46,
          49,
          52,
          50,
          46,
          51,
          47,
          46,
          44,
          46,
          46,
          46,
          44,
          52,
          49,
          45,
          48,
          47,
          48,
          44,
          47,
          49,
          48,
          48,
          49,
          47,
          45,
          47,
          49,
          48,
          48,
          46,
          44,
          45,
          46,
          47,
          44,
          52,
          49,
          44,
          44,
          46,
          46,
          45,
          45,
          48,
          48,
          49,
          45,
          46,
          53,
          45,
          44,
          50,
          45,
          49,
          47,
          47,
          50,
          53,
          50,
          46,
          50,
          47,
          47,
          46,
          49,
          47,
          50,
          50,
          46,
          50,
          46,
          46,
          46,
          47,
          49,
          50,
          46,
          47,
          47,
          47,
          52,
          46,
          46,
          48,
          47,
          46,
          55,
          49,
          51,
          47,
          46,
          45,
          45,
          51,
          49,
          45,
          50,
          47,
          46,
          45,
          46,
          48,
          46,
          49,
          49,
          45,
          49,
          49,
          50,
          47,
          47,
          50,
          47,
          49,
          45,
          54,
          49,
          47,
          45,
          48,
          47,
          50,
          50,
          49,
          46,
          47,
          48,
          46,
          52,
          44,
          49,
          52,
          45,
          48,
          53,
          43,
          50,
          51,
          49,
          49,
          47,
          48,
          45,
          49,
          47,
          46,
          47,
          44,
          47,
          49,
          47,
          53,
          46,
          46,
          48,
          46,
          53,
          44,
          48,
          47,
          47,
          46,
          46,
          48,
          46,
          48,
          49,
          47,
          45,
          49,
          45,
          48,
          46,
          44,
          46,
          48,
          47,
          44,
          54,
          46,
          54,
          45,
          48,
          51,
          46,
          47,
          55,
          49,
          49,
          47,
          46,
          46,
          45,
          47,
          47,
          48,
          49,
          51,
          52,
          47,
          47,
          44,
          48,
          51,
          46,
          48,
          51,
          47,
          46,
          50,
          46,
          47,
          47,
          44,
          48,
          45,
          47,
          47,
          48,
          53,
          45,
          47,
          46,
          47,
          49,
          49,
          48,
          47,
          50,
          47,
          49,
          48,
          50,
          46,
          49,
          44,
          47,
          49,
          46,
          47,
          45,
          50,
          46,
          44,
          50,
          47,
          48,
          51,
          49,
          52,
          45,
          47,
          45,
          53,
          45,
          48,
          46,
          47,
          51,
          51,
          46,
          47,
          50,
          44,
          45,
          46,
          49,
          46,
          45,
          53,
          48,
          47,
          47,
          47,
          50,
          51,
          50,
          47,
          47,
          51,
          48,
          48,
          51,
          45,
          47,
          48,
          52,
          49,
          47,
          47,
          46,
          48,
          47,
          45,
          51,
          48,
          45,
          48,
          48,
          46,
          52,
          44,
          44,
          48,
          52,
          44,
          47,
          49,
          47,
          48,
          47,
          47,
          48,
          47,
          52,
          55,
          48,
          47,
          52,
          47,
          47,
          47,
          47,
          50,
          46,
          52,
          48,
          46,
          45,
          51,
          44,
          53,
          47,
          48,
          45,
          44,
          53,
          47,
          51,
          47,
          46,
          47,
          46,
          50,
          44,
          47,
          46,
          48,
          48,
          46,
          48,
          49,
          47,
          44,
          50,
          46,
          45,
          48,
          51,
          49,
          51,
          51,
          48,
          47,
          46,
          52,
          45,
          50,
          47,
          47,
          46,
          48,
          46,
          47,
          47,
          47,
          48,
          45,
          48,
          45,
          52,
          45,
          50,
          48,
          45,
          48,
          46,
          51,
          51,
          46,
          45,
          48,
          46,
          48,
          55,
          48,
          45,
          46,
          46,
          46,
          47,
          48,
          46,
          45,
          46,
          51,
          46,
          47,
          47,
          50,
          46,
          45,
          49,
          49,
          49,
          44,
          48,
          46,
          49,
          45,
          48,
          45,
          51,
          47,
          51,
          50,
          48,
          43,
          45,
          47,
          46,
          48,
          46,
          50,
          47,
          48,
          46,
          47,
          45,
          46,
          48,
          47,
          48,
          47,
          43,
          52,
          55,
          50,
          47,
          45,
          47,
          47,
          49,
          46,
          48,
          48,
          54,
          47,
          48,
          51,
          50,
          52,
          48,
          46,
          48,
          49,
          50,
          46,
          45,
          46,
          48,
          47,
          44,
          51,
          47,
          46,
          48,
          48,
          47,
          46,
          49,
          48,
          47,
          49,
          50,
          48,
          46,
          48,
          48,
          46,
          53,
          48,
          45,
          45,
          45,
          44,
          46,
          45,
          47,
          51,
          51,
          47,
          49,
          45,
          46,
          48,
          55,
          49,
          51,
          54,
          47,
          48,
          49,
          48,
          46,
          54,
          54,
          47,
          48,
          48,
          46,
          50,
          46,
          53,
          48,
          45,
          48,
          49,
          50,
          47,
          46,
          46,
          46,
          48,
          46,
          48,
          48,
          51,
          46,
          48,
          47,
          53,
          51,
          52,
          49,
          48,
          47,
          47,
          49,
          45,
          51,
          50,
          45,
          46,
          52,
          45,
          48,
          46,
          47,
          56,
          48,
          47,
          44,
          49,
          51,
          50,
          46,
          47,
          44,
          50,
          47,
          45,
          47,
          51,
          48,
          48,
          47,
          48,
          50,
          49,
          47,
          49,
          46,
          47,
          44,
          45,
          45,
          47,
          48,
          50,
          48,
          46,
          47,
          54,
          44,
          49,
          48,
          46,
          46,
          54,
          46,
          48,
          45,
          47,
          48,
          49,
          44,
          47,
          52,
          44,
          45,
          45,
          47,
          47,
          51,
          48,
          46,
          49,
          51,
          48,
          46,
          49,
          48,
          45,
          49,
          47,
          54,
          46,
          55,
          46,
          46,
          52,
          46,
          49,
          53,
          51,
          45,
          48,
          46,
          45,
          49,
          46,
          49,
          48,
          49,
          46,
          46,
          48,
          45,
          45,
          48,
          48,
          50,
          45,
          47,
          50,
          47,
          49,
          48,
          46,
          48,
          45,
          45,
          47,
          51,
          46,
          47,
          53,
          52,
          48,
          46,
          49,
          44,
          45,
          47,
          49,
          48,
          46,
          49,
          49,
          50,
          49,
          47,
          46,
          47,
          45,
          49,
          46,
          46,
          50,
          49,
          46,
          46,
          47,
          45,
          56,
          47,
          44,
          45,
          47,
          46,
          49,
          49,
          49,
          48,
          43,
          48,
          51,
          50,
          45,
          53,
          48,
          49,
          45,
          49,
          44,
          54,
          48,
          50,
          47,
          48,
          47,
          45,
          46,
          51,
          48,
          54,
          47,
          47,
          48,
          46,
          50,
          44,
          50,
          44,
          49,
          49,
          48,
          51,
          48,
          43,
          52,
          46,
          47,
          45,
          51,
          53,
          46,
          46,
          49,
          45,
          50,
          48,
          51,
          48,
          45,
          50,
          47,
          48,
          47,
          47,
          46,
          55,
          45,
          45,
          45,
          52,
          47,
          44,
          44,
          46,
          47,
          50,
          46,
          48,
          44,
          46,
          52,
          56,
          46,
          52,
          44,
          48,
          49,
          46,
          47,
          43,
          47,
          45,
          46,
          51,
          51,
          46,
          52,
          48,
          48,
          48,
          51,
          50,
          44,
          48,
          48,
          49,
          47,
          46,
          47,
          49,
          45,
          48,
          48,
          47,
          47,
          47,
          49,
          52,
          54,
          47,
          47,
          54,
          53,
          48,
          46,
          46,
          54,
          47,
          49,
          45,
          48,
          47,
          53,
          47,
          49,
          48,
          45,
          50,
          48,
          47,
          47,
          50,
          50,
          52,
          48,
          49,
          45,
          49,
          48,
          47,
          49,
          44,
          51,
          46,
          48,
          51,
          55,
          50,
          45,
          47,
          47,
          48,
          53,
          49,
          48,
          47,
          50,
          49,
          47,
          49,
          48,
          43,
          48,
          44,
          49,
          46,
          48,
          48,
          49,
          45,
          46,
          48,
          48,
          50,
          47,
          47,
          48,
          47,
          48,
          45,
          48,
          49,
          46,
          48,
          49,
          45,
          52,
          48,
          46,
          49,
          45,
          48,
          48,
          47,
          44,
          47,
          43,
          51,
          47,
          47,
          48,
          53,
          49,
          49,
          47,
          50,
          46,
          45,
          48,
          45,
          52,
          49,
          49,
          48,
          47,
          47,
          54,
          51,
          47,
          46,
          48,
          50,
          48,
          47,
          49,
          47,
          48,
          48,
          47,
          45,
          51,
          48,
          49,
          47,
          49,
          47,
          47,
          47,
          47,
          45,
          45,
          44,
          47,
          45,
          47,
          49,
          50,
          46,
          46,
          48,
          50,
          47,
          45,
          45,
          49,
          49,
          47,
          46,
          48,
          47,
          48,
          47,
          52,
          50,
          47,
          46,
          47,
          47,
          47,
          49,
          46,
          47,
          53,
          50,
          50,
          46,
          57,
          46,
          46,
          47,
          50,
          48,
          50,
          49,
          48,
          46,
          46,
          48,
          51,
          51,
          45,
          45,
          48,
          47,
          45,
          48,
          49,
          46,
          49,
          47,
          46,
          50,
          51,
          46,
          51,
          46,
          50,
          48,
          50,
          43,
          50,
          46,
          45,
          45,
          50,
          50,
          45,
          45,
          49,
          46,
          48,
          43,
          47,
          48,
          59,
          47,
          45,
          50,
          45,
          47,
          48,
          46,
          48,
          48,
          46,
          51,
          48,
          52,
          50,
          47,
          50,
          47,
          50,
          45,
          46,
          48,
          48,
          48,
          45,
          53,
          45,
          46,
          51,
          50,
          50,
          48,
          47,
          49,
          46,
          48,
          48,
          46,
          47,
          47,
          50,
          45,
          50,
          51,
          47,
          46,
          47,
          48,
          48,
          49,
          45,
          46,
          47,
          49,
          49,
          49,
          45,
          50,
          50,
          50,
          50,
          46,
          48,
          48,
          45,
          47,
          49,
          47,
          45,
          49,
          45,
          47,
          48
         ],
         "xaxis": "x",
         "yaxis": "y"
        }
       ],
       "layout": {
        "barmode": "relative",
        "legend": {
         "title": {
          "text": "variable"
         },
         "tracegroupgap": 0
        },
        "template": {
         "data": {
          "bar": [
           {
            "error_x": {
             "color": "#2a3f5f"
            },
            "error_y": {
             "color": "#2a3f5f"
            },
            "marker": {
             "line": {
              "color": "#E5ECF6",
              "width": 0.5
             },
             "pattern": {
              "fillmode": "overlay",
              "size": 10,
              "solidity": 0.2
             }
            },
            "type": "bar"
           }
          ],
          "barpolar": [
           {
            "marker": {
             "line": {
              "color": "#E5ECF6",
              "width": 0.5
             },
             "pattern": {
              "fillmode": "overlay",
              "size": 10,
              "solidity": 0.2
             }
            },
            "type": "barpolar"
           }
          ],
          "carpet": [
           {
            "aaxis": {
             "endlinecolor": "#2a3f5f",
             "gridcolor": "white",
             "linecolor": "white",
             "minorgridcolor": "white",
             "startlinecolor": "#2a3f5f"
            },
            "baxis": {
             "endlinecolor": "#2a3f5f",
             "gridcolor": "white",
             "linecolor": "white",
             "minorgridcolor": "white",
             "startlinecolor": "#2a3f5f"
            },
            "type": "carpet"
           }
          ],
          "choropleth": [
           {
            "colorbar": {
             "outlinewidth": 0,
             "ticks": ""
            },
            "type": "choropleth"
           }
          ],
          "contour": [
           {
            "colorbar": {
             "outlinewidth": 0,
             "ticks": ""
            },
            "colorscale": [
             [
              0,
              "#0d0887"
             ],
             [
              0.1111111111111111,
              "#46039f"
             ],
             [
              0.2222222222222222,
              "#7201a8"
             ],
             [
              0.3333333333333333,
              "#9c179e"
             ],
             [
              0.4444444444444444,
              "#bd3786"
             ],
             [
              0.5555555555555556,
              "#d8576b"
             ],
             [
              0.6666666666666666,
              "#ed7953"
             ],
             [
              0.7777777777777778,
              "#fb9f3a"
             ],
             [
              0.8888888888888888,
              "#fdca26"
             ],
             [
              1,
              "#f0f921"
             ]
            ],
            "type": "contour"
           }
          ],
          "contourcarpet": [
           {
            "colorbar": {
             "outlinewidth": 0,
             "ticks": ""
            },
            "type": "contourcarpet"
           }
          ],
          "heatmap": [
           {
            "colorbar": {
             "outlinewidth": 0,
             "ticks": ""
            },
            "colorscale": [
             [
              0,
              "#0d0887"
             ],
             [
              0.1111111111111111,
              "#46039f"
             ],
             [
              0.2222222222222222,
              "#7201a8"
             ],
             [
              0.3333333333333333,
              "#9c179e"
             ],
             [
              0.4444444444444444,
              "#bd3786"
             ],
             [
              0.5555555555555556,
              "#d8576b"
             ],
             [
              0.6666666666666666,
              "#ed7953"
             ],
             [
              0.7777777777777778,
              "#fb9f3a"
             ],
             [
              0.8888888888888888,
              "#fdca26"
             ],
             [
              1,
              "#f0f921"
             ]
            ],
            "type": "heatmap"
           }
          ],
          "heatmapgl": [
           {
            "colorbar": {
             "outlinewidth": 0,
             "ticks": ""
            },
            "colorscale": [
             [
              0,
              "#0d0887"
             ],
             [
              0.1111111111111111,
              "#46039f"
             ],
             [
              0.2222222222222222,
              "#7201a8"
             ],
             [
              0.3333333333333333,
              "#9c179e"
             ],
             [
              0.4444444444444444,
              "#bd3786"
             ],
             [
              0.5555555555555556,
              "#d8576b"
             ],
             [
              0.6666666666666666,
              "#ed7953"
             ],
             [
              0.7777777777777778,
              "#fb9f3a"
             ],
             [
              0.8888888888888888,
              "#fdca26"
             ],
             [
              1,
              "#f0f921"
             ]
            ],
            "type": "heatmapgl"
           }
          ],
          "histogram": [
           {
            "marker": {
             "pattern": {
              "fillmode": "overlay",
              "size": 10,
              "solidity": 0.2
             }
            },
            "type": "histogram"
           }
          ],
          "histogram2d": [
           {
            "colorbar": {
             "outlinewidth": 0,
             "ticks": ""
            },
            "colorscale": [
             [
              0,
              "#0d0887"
             ],
             [
              0.1111111111111111,
              "#46039f"
             ],
             [
              0.2222222222222222,
              "#7201a8"
             ],
             [
              0.3333333333333333,
              "#9c179e"
             ],
             [
              0.4444444444444444,
              "#bd3786"
             ],
             [
              0.5555555555555556,
              "#d8576b"
             ],
             [
              0.6666666666666666,
              "#ed7953"
             ],
             [
              0.7777777777777778,
              "#fb9f3a"
             ],
             [
              0.8888888888888888,
              "#fdca26"
             ],
             [
              1,
              "#f0f921"
             ]
            ],
            "type": "histogram2d"
           }
          ],
          "histogram2dcontour": [
           {
            "colorbar": {
             "outlinewidth": 0,
             "ticks": ""
            },
            "colorscale": [
             [
              0,
              "#0d0887"
             ],
             [
              0.1111111111111111,
              "#46039f"
             ],
             [
              0.2222222222222222,
              "#7201a8"
             ],
             [
              0.3333333333333333,
              "#9c179e"
             ],
             [
              0.4444444444444444,
              "#bd3786"
             ],
             [
              0.5555555555555556,
              "#d8576b"
             ],
             [
              0.6666666666666666,
              "#ed7953"
             ],
             [
              0.7777777777777778,
              "#fb9f3a"
             ],
             [
              0.8888888888888888,
              "#fdca26"
             ],
             [
              1,
              "#f0f921"
             ]
            ],
            "type": "histogram2dcontour"
           }
          ],
          "mesh3d": [
           {
            "colorbar": {
             "outlinewidth": 0,
             "ticks": ""
            },
            "type": "mesh3d"
           }
          ],
          "parcoords": [
           {
            "line": {
             "colorbar": {
              "outlinewidth": 0,
              "ticks": ""
             }
            },
            "type": "parcoords"
           }
          ],
          "pie": [
           {
            "automargin": true,
            "type": "pie"
           }
          ],
          "scatter": [
           {
            "fillpattern": {
             "fillmode": "overlay",
             "size": 10,
             "solidity": 0.2
            },
            "type": "scatter"
           }
          ],
          "scatter3d": [
           {
            "line": {
             "colorbar": {
              "outlinewidth": 0,
              "ticks": ""
             }
            },
            "marker": {
             "colorbar": {
              "outlinewidth": 0,
              "ticks": ""
             }
            },
            "type": "scatter3d"
           }
          ],
          "scattercarpet": [
           {
            "marker": {
             "colorbar": {
              "outlinewidth": 0,
              "ticks": ""
             }
            },
            "type": "scattercarpet"
           }
          ],
          "scattergeo": [
           {
            "marker": {
             "colorbar": {
              "outlinewidth": 0,
              "ticks": ""
             }
            },
            "type": "scattergeo"
           }
          ],
          "scattergl": [
           {
            "marker": {
             "colorbar": {
              "outlinewidth": 0,
              "ticks": ""
             }
            },
            "type": "scattergl"
           }
          ],
          "scattermapbox": [
           {
            "marker": {
             "colorbar": {
              "outlinewidth": 0,
              "ticks": ""
             }
            },
            "type": "scattermapbox"
           }
          ],
          "scatterpolar": [
           {
            "marker": {
             "colorbar": {
              "outlinewidth": 0,
              "ticks": ""
             }
            },
            "type": "scatterpolar"
           }
          ],
          "scatterpolargl": [
           {
            "marker": {
             "colorbar": {
              "outlinewidth": 0,
              "ticks": ""
             }
            },
            "type": "scatterpolargl"
           }
          ],
          "scatterternary": [
           {
            "marker": {
             "colorbar": {
              "outlinewidth": 0,
              "ticks": ""
             }
            },
            "type": "scatterternary"
           }
          ],
          "surface": [
           {
            "colorbar": {
             "outlinewidth": 0,
             "ticks": ""
            },
            "colorscale": [
             [
              0,
              "#0d0887"
             ],
             [
              0.1111111111111111,
              "#46039f"
             ],
             [
              0.2222222222222222,
              "#7201a8"
             ],
             [
              0.3333333333333333,
              "#9c179e"
             ],
             [
              0.4444444444444444,
              "#bd3786"
             ],
             [
              0.5555555555555556,
              "#d8576b"
             ],
             [
              0.6666666666666666,
              "#ed7953"
             ],
             [
              0.7777777777777778,
              "#fb9f3a"
             ],
             [
              0.8888888888888888,
              "#fdca26"
             ],
             [
              1,
              "#f0f921"
             ]
            ],
            "type": "surface"
           }
          ],
          "table": [
           {
            "cells": {
             "fill": {
              "color": "#EBF0F8"
             },
             "line": {
              "color": "white"
             }
            },
            "header": {
             "fill": {
              "color": "#C8D4E3"
             },
             "line": {
              "color": "white"
             }
            },
            "type": "table"
           }
          ]
         },
         "layout": {
          "annotationdefaults": {
           "arrowcolor": "#2a3f5f",
           "arrowhead": 0,
           "arrowwidth": 1
          },
          "autotypenumbers": "strict",
          "coloraxis": {
           "colorbar": {
            "outlinewidth": 0,
            "ticks": ""
           }
          },
          "colorscale": {
           "diverging": [
            [
             0,
             "#8e0152"
            ],
            [
             0.1,
             "#c51b7d"
            ],
            [
             0.2,
             "#de77ae"
            ],
            [
             0.3,
             "#f1b6da"
            ],
            [
             0.4,
             "#fde0ef"
            ],
            [
             0.5,
             "#f7f7f7"
            ],
            [
             0.6,
             "#e6f5d0"
            ],
            [
             0.7,
             "#b8e186"
            ],
            [
             0.8,
             "#7fbc41"
            ],
            [
             0.9,
             "#4d9221"
            ],
            [
             1,
             "#276419"
            ]
           ],
           "sequential": [
            [
             0,
             "#0d0887"
            ],
            [
             0.1111111111111111,
             "#46039f"
            ],
            [
             0.2222222222222222,
             "#7201a8"
            ],
            [
             0.3333333333333333,
             "#9c179e"
            ],
            [
             0.4444444444444444,
             "#bd3786"
            ],
            [
             0.5555555555555556,
             "#d8576b"
            ],
            [
             0.6666666666666666,
             "#ed7953"
            ],
            [
             0.7777777777777778,
             "#fb9f3a"
            ],
            [
             0.8888888888888888,
             "#fdca26"
            ],
            [
             1,
             "#f0f921"
            ]
           ],
           "sequentialminus": [
            [
             0,
             "#0d0887"
            ],
            [
             0.1111111111111111,
             "#46039f"
            ],
            [
             0.2222222222222222,
             "#7201a8"
            ],
            [
             0.3333333333333333,
             "#9c179e"
            ],
            [
             0.4444444444444444,
             "#bd3786"
            ],
            [
             0.5555555555555556,
             "#d8576b"
            ],
            [
             0.6666666666666666,
             "#ed7953"
            ],
            [
             0.7777777777777778,
             "#fb9f3a"
            ],
            [
             0.8888888888888888,
             "#fdca26"
            ],
            [
             1,
             "#f0f921"
            ]
           ]
          },
          "colorway": [
           "#636efa",
           "#EF553B",
           "#00cc96",
           "#ab63fa",
           "#FFA15A",
           "#19d3f3",
           "#FF6692",
           "#B6E880",
           "#FF97FF",
           "#FECB52"
          ],
          "font": {
           "color": "#2a3f5f"
          },
          "geo": {
           "bgcolor": "white",
           "lakecolor": "white",
           "landcolor": "#E5ECF6",
           "showlakes": true,
           "showland": true,
           "subunitcolor": "white"
          },
          "hoverlabel": {
           "align": "left"
          },
          "hovermode": "closest",
          "mapbox": {
           "style": "light"
          },
          "paper_bgcolor": "white",
          "plot_bgcolor": "#E5ECF6",
          "polar": {
           "angularaxis": {
            "gridcolor": "white",
            "linecolor": "white",
            "ticks": ""
           },
           "bgcolor": "#E5ECF6",
           "radialaxis": {
            "gridcolor": "white",
            "linecolor": "white",
            "ticks": ""
           }
          },
          "scene": {
           "xaxis": {
            "backgroundcolor": "#E5ECF6",
            "gridcolor": "white",
            "gridwidth": 2,
            "linecolor": "white",
            "showbackground": true,
            "ticks": "",
            "zerolinecolor": "white"
           },
           "yaxis": {
            "backgroundcolor": "#E5ECF6",
            "gridcolor": "white",
            "gridwidth": 2,
            "linecolor": "white",
            "showbackground": true,
            "ticks": "",
            "zerolinecolor": "white"
           },
           "zaxis": {
            "backgroundcolor": "#E5ECF6",
            "gridcolor": "white",
            "gridwidth": 2,
            "linecolor": "white",
            "showbackground": true,
            "ticks": "",
            "zerolinecolor": "white"
           }
          },
          "shapedefaults": {
           "line": {
            "color": "#2a3f5f"
           }
          },
          "ternary": {
           "aaxis": {
            "gridcolor": "white",
            "linecolor": "white",
            "ticks": ""
           },
           "baxis": {
            "gridcolor": "white",
            "linecolor": "white",
            "ticks": ""
           },
           "bgcolor": "#E5ECF6",
           "caxis": {
            "gridcolor": "white",
            "linecolor": "white",
            "ticks": ""
           }
          },
          "title": {
           "x": 0.05
          },
          "xaxis": {
           "automargin": true,
           "gridcolor": "white",
           "linecolor": "white",
           "ticks": "",
           "title": {
            "standoff": 15
           },
           "zerolinecolor": "white",
           "zerolinewidth": 2
          },
          "yaxis": {
           "automargin": true,
           "gridcolor": "white",
           "linecolor": "white",
           "ticks": "",
           "title": {
            "standoff": 15
           },
           "zerolinecolor": "white",
           "zerolinewidth": 2
          }
         }
        },
        "title": {
         "text": "Max Number of Comparisons by Element"
        },
        "xaxis": {
         "anchor": "y",
         "domain": [
          0,
          1
         ],
         "title": {
          "text": "value"
         }
        },
        "yaxis": {
         "anchor": "x",
         "domain": [
          0,
          1
         ],
         "title": {
          "text": "count"
         }
        }
       }
      }
     },
     "metadata": {},
     "output_type": "display_data"
    }
   ],
   "source": [
    "display(px.histogram(pd.Series(maxes, name = \"Max Comparisons\"), title = \"Max Number of Comparisons by Element\"))"
   ]
  },
  {
   "cell_type": "code",
   "execution_count": 8,
   "metadata": {},
   "outputs": [
    {
     "data": {
      "application/vnd.plotly.v1+json": {
       "config": {
        "plotlyServerURL": "https://plot.ly"
       },
       "data": [
        {
         "alignmentgroup": "True",
         "bingroup": "x",
         "hovertemplate": "variable=Comparisons<br>value=%{x}<br>count=%{y}<extra></extra>",
         "legendgroup": "Comparisons",
         "marker": {
          "color": "#636efa",
          "pattern": {
           "shape": ""
          }
         },
         "name": "Comparisons",
         "offsetgroup": "Comparisons",
         "orientation": "v",
         "showlegend": true,
         "type": "histogram",
         "x": [
          10,
          11,
          12,
          12,
          12,
          13,
          15,
          12,
          13,
          12,
          13,
          15,
          12,
          19,
          15,
          13,
          12,
          11,
          15,
          16,
          15,
          14,
          12,
          16,
          16,
          13,
          18,
          13,
          24,
          14,
          16,
          14,
          14,
          17,
          11,
          15,
          14,
          16,
          21,
          14,
          15,
          11,
          15,
          16,
          19,
          19,
          14,
          14,
          21,
          16,
          16,
          12,
          18,
          14,
          19,
          19,
          16,
          14,
          13,
          15,
          16,
          14,
          19,
          18,
          13,
          15,
          19,
          15,
          18,
          13,
          17,
          18,
          14,
          22,
          14,
          18,
          16,
          16,
          19,
          12,
          16,
          16,
          19,
          14,
          18,
          14,
          18,
          19,
          14,
          18,
          16,
          14,
          21,
          14,
          20,
          15,
          22,
          15,
          16,
          19,
          14,
          14,
          17,
          12,
          18,
          11,
          18,
          20,
          18,
          15,
          16,
          20,
          18,
          18,
          19,
          18,
          22,
          15,
          17,
          15,
          18,
          16,
          20,
          18,
          17,
          11,
          13,
          14,
          17,
          25,
          14,
          16,
          20,
          19,
          20,
          16,
          14,
          17,
          17,
          11,
          18,
          12,
          18,
          14,
          24,
          21,
          16,
          18,
          20,
          22,
          14,
          14,
          18,
          22,
          24,
          15,
          18,
          17,
          15,
          16,
          16,
          20,
          18,
          19,
          17,
          17,
          18,
          14,
          22,
          15,
          21,
          15,
          19,
          15,
          16,
          13,
          16,
          17,
          17,
          18,
          19,
          14,
          17,
          23,
          23,
          15,
          14,
          15,
          23,
          17,
          15,
          15,
          13,
          17,
          14,
          26,
          21,
          17,
          18,
          21,
          15,
          15,
          15,
          17,
          17,
          21,
          18,
          17,
          18,
          11,
          29,
          21,
          19,
          16,
          20,
          23,
          15,
          17,
          17,
          12,
          16,
          13,
          21,
          20,
          15,
          19,
          22,
          15,
          14,
          18,
          17,
          21,
          24,
          15,
          14,
          17,
          17,
          22,
          17,
          17,
          15,
          18,
          18,
          21,
          21,
          22,
          15,
          19,
          16,
          19,
          19,
          13,
          15,
          19,
          17,
          18,
          16,
          15,
          20,
          23,
          13,
          13,
          14,
          16,
          18,
          19,
          17,
          23,
          20,
          17,
          18,
          18,
          25,
          16,
          17,
          19,
          24,
          16,
          21,
          16,
          17,
          23,
          16,
          16,
          18,
          19,
          22,
          16,
          23,
          20,
          17,
          17,
          19,
          25,
          19,
          17,
          16,
          19,
          14,
          18,
          16,
          20,
          18,
          23,
          19,
          15,
          21,
          16,
          19,
          12,
          17,
          17,
          18,
          19,
          18,
          16,
          14,
          16,
          18,
          23,
          16,
          17,
          19,
          23,
          21,
          15,
          15,
          15,
          15,
          25,
          18,
          17,
          16,
          11,
          17,
          20,
          25,
          22,
          22,
          18,
          21,
          22,
          17,
          22,
          12,
          19,
          17,
          19,
          15,
          17,
          21,
          18,
          14,
          15,
          13,
          23,
          20,
          24,
          25,
          22,
          17,
          18,
          17,
          19,
          11,
          14,
          17,
          20,
          23,
          16,
          17,
          19,
          15,
          13,
          20,
          18,
          19,
          14,
          16,
          21,
          18,
          16,
          19,
          21,
          19,
          18,
          20,
          15,
          24,
          12,
          23,
          24,
          22,
          15,
          14,
          14,
          14,
          13,
          18,
          14,
          18,
          23,
          24,
          26,
          20,
          15,
          20,
          27,
          12,
          15,
          20,
          18,
          20,
          20,
          16,
          15,
          22,
          16,
          16,
          18,
          13,
          19,
          18,
          27,
          17,
          15,
          21,
          25,
          21,
          16,
          18,
          21,
          20,
          16,
          18,
          22,
          17,
          18,
          17,
          25,
          20,
          20,
          16,
          14,
          16,
          19,
          16,
          15,
          12,
          18,
          22,
          17,
          26,
          17,
          25,
          17,
          17,
          16,
          13,
          17,
          22,
          16,
          14,
          24,
          20,
          21,
          16,
          14,
          17,
          20,
          19,
          25,
          19,
          19,
          15,
          16,
          21,
          25,
          15,
          15,
          16,
          25,
          11,
          22,
          24,
          23,
          16,
          19,
          12,
          22,
          21,
          16,
          23,
          22,
          16,
          16,
          17,
          16,
          15,
          23,
          25,
          18,
          21,
          18,
          16,
          18,
          23,
          21,
          13,
          19,
          18,
          15,
          17,
          20,
          22,
          17,
          15,
          23,
          14,
          15,
          16,
          12,
          12,
          13,
          26,
          24,
          18,
          16,
          16,
          21,
          30,
          28,
          14,
          12,
          22,
          19,
          11,
          18,
          20,
          17,
          17,
          22,
          22,
          20,
          15,
          21,
          21,
          16,
          16,
          16,
          20,
          13,
          13,
          19,
          21,
          20,
          17,
          24,
          15,
          15,
          17,
          15,
          16,
          26,
          14,
          25,
          26,
          16,
          18,
          18,
          20,
          17,
          24,
          17,
          19,
          17,
          23,
          15,
          16,
          18,
          15,
          17,
          15,
          15,
          13,
          18,
          20,
          21,
          15,
          28,
          17,
          24,
          21,
          19,
          18,
          18,
          20,
          18,
          27,
          21,
          16,
          14,
          22,
          25,
          14,
          26,
          21,
          16,
          17,
          14,
          16,
          19,
          18,
          18,
          9,
          18,
          17,
          21,
          14,
          13,
          23,
          17,
          18,
          13,
          21,
          17,
          16,
          20,
          22,
          18,
          14,
          20,
          13,
          19,
          17,
          22,
          16,
          13,
          20,
          17,
          14,
          25,
          15,
          18,
          20,
          26,
          20,
          16,
          17,
          15,
          16,
          14,
          19,
          21,
          21,
          26,
          30,
          15,
          23,
          14,
          20,
          19,
          23,
          16,
          14,
          22,
          17,
          18,
          17,
          19,
          24,
          14,
          24,
          15,
          19,
          29,
          11,
          13,
          19,
          15,
          23,
          19,
          17,
          16,
          25,
          17,
          16,
          17,
          12,
          17,
          28,
          15,
          15,
          27,
          15,
          16,
          29,
          10,
          18,
          17,
          17,
          16,
          20,
          15,
          12,
          13,
          23,
          22,
          25,
          20,
          14,
          22,
          13,
          14,
          19,
          14,
          22,
          17,
          18,
          14,
          26,
          23,
          16,
          24,
          14,
          12,
          14,
          13,
          14,
          18,
          15,
          19,
          16,
          17,
          13,
          26,
          11,
          16,
          21,
          17,
          22,
          21,
          22,
          18,
          17,
          16,
          16,
          20,
          17,
          19,
          21,
          16,
          17,
          22,
          21,
          17,
          26,
          14,
          12,
          16,
          18,
          17,
          20,
          16,
          16,
          17,
          23,
          16,
          17,
          17,
          15,
          12,
          16,
          20,
          13,
          16,
          17,
          20,
          29,
          16,
          10,
          25,
          20,
          12,
          22,
          22,
          19,
          21,
          18,
          21,
          19,
          18,
          14,
          19,
          20,
          17,
          16,
          19,
          17,
          19,
          18,
          15,
          18,
          27,
          29,
          17,
          16,
          22,
          26,
          13,
          21,
          13,
          19,
          14,
          23,
          15,
          19,
          14,
          24,
          12,
          15,
          16,
          11,
          12,
          23,
          15,
          23,
          11,
          16,
          24,
          15,
          13,
          32,
          14,
          16,
          12,
          18,
          18,
          10,
          15,
          17,
          25,
          21,
          18,
          18,
          18,
          14,
          22,
          22,
          21,
          23,
          16,
          16,
          17,
          16,
          17,
          14,
          16,
          13,
          18,
          14,
          15,
          24,
          15,
          15,
          19,
          13,
          14,
          21,
          20,
          18,
          16,
          21,
          23,
          10,
          24,
          19,
          14,
          21,
          24,
          15,
          10,
          17,
          15,
          17,
          19,
          12,
          18,
          23,
          13,
          22,
          17,
          17,
          17,
          15,
          20,
          13,
          18,
          21,
          24,
          16,
          13,
          12,
          20,
          12,
          17,
          20,
          13,
          18,
          12,
          17,
          14,
          19,
          17,
          19,
          12,
          14,
          15,
          26,
          14,
          15,
          12,
          12,
          25,
          17,
          10,
          17,
          15,
          13,
          24,
          17,
          27,
          16,
          11,
          20,
          21,
          15,
          18,
          17,
          16,
          17,
          19,
          29,
          11,
          25,
          13,
          16,
          11,
          10,
          16,
          12,
          13,
          19,
          26,
          14,
          18,
          15,
          17,
          20,
          11,
          17,
          19,
          12,
          11,
          17,
          22,
          15,
          12,
          18,
          13,
          22,
          19,
          18,
          23,
          27,
          17,
          21,
          15,
          14,
          15,
          12,
          13,
          15,
          17,
          14,
          16,
          15,
          20,
          8,
          16,
          12,
          10,
          10,
          23,
          23,
          21,
          21,
          13,
          21,
          14,
          11,
          21,
          15,
          9,
          19,
          10,
          11,
          14,
          19,
          13,
          10,
          18,
          17,
          13,
          21,
          10,
          18,
          10,
          12,
          10,
          18,
          7,
          11,
          6
         ],
         "xaxis": "x",
         "yaxis": "y"
        }
       ],
       "layout": {
        "barmode": "relative",
        "legend": {
         "title": {
          "text": "variable"
         },
         "tracegroupgap": 0
        },
        "template": {
         "data": {
          "bar": [
           {
            "error_x": {
             "color": "#2a3f5f"
            },
            "error_y": {
             "color": "#2a3f5f"
            },
            "marker": {
             "line": {
              "color": "#E5ECF6",
              "width": 0.5
             },
             "pattern": {
              "fillmode": "overlay",
              "size": 10,
              "solidity": 0.2
             }
            },
            "type": "bar"
           }
          ],
          "barpolar": [
           {
            "marker": {
             "line": {
              "color": "#E5ECF6",
              "width": 0.5
             },
             "pattern": {
              "fillmode": "overlay",
              "size": 10,
              "solidity": 0.2
             }
            },
            "type": "barpolar"
           }
          ],
          "carpet": [
           {
            "aaxis": {
             "endlinecolor": "#2a3f5f",
             "gridcolor": "white",
             "linecolor": "white",
             "minorgridcolor": "white",
             "startlinecolor": "#2a3f5f"
            },
            "baxis": {
             "endlinecolor": "#2a3f5f",
             "gridcolor": "white",
             "linecolor": "white",
             "minorgridcolor": "white",
             "startlinecolor": "#2a3f5f"
            },
            "type": "carpet"
           }
          ],
          "choropleth": [
           {
            "colorbar": {
             "outlinewidth": 0,
             "ticks": ""
            },
            "type": "choropleth"
           }
          ],
          "contour": [
           {
            "colorbar": {
             "outlinewidth": 0,
             "ticks": ""
            },
            "colorscale": [
             [
              0,
              "#0d0887"
             ],
             [
              0.1111111111111111,
              "#46039f"
             ],
             [
              0.2222222222222222,
              "#7201a8"
             ],
             [
              0.3333333333333333,
              "#9c179e"
             ],
             [
              0.4444444444444444,
              "#bd3786"
             ],
             [
              0.5555555555555556,
              "#d8576b"
             ],
             [
              0.6666666666666666,
              "#ed7953"
             ],
             [
              0.7777777777777778,
              "#fb9f3a"
             ],
             [
              0.8888888888888888,
              "#fdca26"
             ],
             [
              1,
              "#f0f921"
             ]
            ],
            "type": "contour"
           }
          ],
          "contourcarpet": [
           {
            "colorbar": {
             "outlinewidth": 0,
             "ticks": ""
            },
            "type": "contourcarpet"
           }
          ],
          "heatmap": [
           {
            "colorbar": {
             "outlinewidth": 0,
             "ticks": ""
            },
            "colorscale": [
             [
              0,
              "#0d0887"
             ],
             [
              0.1111111111111111,
              "#46039f"
             ],
             [
              0.2222222222222222,
              "#7201a8"
             ],
             [
              0.3333333333333333,
              "#9c179e"
             ],
             [
              0.4444444444444444,
              "#bd3786"
             ],
             [
              0.5555555555555556,
              "#d8576b"
             ],
             [
              0.6666666666666666,
              "#ed7953"
             ],
             [
              0.7777777777777778,
              "#fb9f3a"
             ],
             [
              0.8888888888888888,
              "#fdca26"
             ],
             [
              1,
              "#f0f921"
             ]
            ],
            "type": "heatmap"
           }
          ],
          "heatmapgl": [
           {
            "colorbar": {
             "outlinewidth": 0,
             "ticks": ""
            },
            "colorscale": [
             [
              0,
              "#0d0887"
             ],
             [
              0.1111111111111111,
              "#46039f"
             ],
             [
              0.2222222222222222,
              "#7201a8"
             ],
             [
              0.3333333333333333,
              "#9c179e"
             ],
             [
              0.4444444444444444,
              "#bd3786"
             ],
             [
              0.5555555555555556,
              "#d8576b"
             ],
             [
              0.6666666666666666,
              "#ed7953"
             ],
             [
              0.7777777777777778,
              "#fb9f3a"
             ],
             [
              0.8888888888888888,
              "#fdca26"
             ],
             [
              1,
              "#f0f921"
             ]
            ],
            "type": "heatmapgl"
           }
          ],
          "histogram": [
           {
            "marker": {
             "pattern": {
              "fillmode": "overlay",
              "size": 10,
              "solidity": 0.2
             }
            },
            "type": "histogram"
           }
          ],
          "histogram2d": [
           {
            "colorbar": {
             "outlinewidth": 0,
             "ticks": ""
            },
            "colorscale": [
             [
              0,
              "#0d0887"
             ],
             [
              0.1111111111111111,
              "#46039f"
             ],
             [
              0.2222222222222222,
              "#7201a8"
             ],
             [
              0.3333333333333333,
              "#9c179e"
             ],
             [
              0.4444444444444444,
              "#bd3786"
             ],
             [
              0.5555555555555556,
              "#d8576b"
             ],
             [
              0.6666666666666666,
              "#ed7953"
             ],
             [
              0.7777777777777778,
              "#fb9f3a"
             ],
             [
              0.8888888888888888,
              "#fdca26"
             ],
             [
              1,
              "#f0f921"
             ]
            ],
            "type": "histogram2d"
           }
          ],
          "histogram2dcontour": [
           {
            "colorbar": {
             "outlinewidth": 0,
             "ticks": ""
            },
            "colorscale": [
             [
              0,
              "#0d0887"
             ],
             [
              0.1111111111111111,
              "#46039f"
             ],
             [
              0.2222222222222222,
              "#7201a8"
             ],
             [
              0.3333333333333333,
              "#9c179e"
             ],
             [
              0.4444444444444444,
              "#bd3786"
             ],
             [
              0.5555555555555556,
              "#d8576b"
             ],
             [
              0.6666666666666666,
              "#ed7953"
             ],
             [
              0.7777777777777778,
              "#fb9f3a"
             ],
             [
              0.8888888888888888,
              "#fdca26"
             ],
             [
              1,
              "#f0f921"
             ]
            ],
            "type": "histogram2dcontour"
           }
          ],
          "mesh3d": [
           {
            "colorbar": {
             "outlinewidth": 0,
             "ticks": ""
            },
            "type": "mesh3d"
           }
          ],
          "parcoords": [
           {
            "line": {
             "colorbar": {
              "outlinewidth": 0,
              "ticks": ""
             }
            },
            "type": "parcoords"
           }
          ],
          "pie": [
           {
            "automargin": true,
            "type": "pie"
           }
          ],
          "scatter": [
           {
            "fillpattern": {
             "fillmode": "overlay",
             "size": 10,
             "solidity": 0.2
            },
            "type": "scatter"
           }
          ],
          "scatter3d": [
           {
            "line": {
             "colorbar": {
              "outlinewidth": 0,
              "ticks": ""
             }
            },
            "marker": {
             "colorbar": {
              "outlinewidth": 0,
              "ticks": ""
             }
            },
            "type": "scatter3d"
           }
          ],
          "scattercarpet": [
           {
            "marker": {
             "colorbar": {
              "outlinewidth": 0,
              "ticks": ""
             }
            },
            "type": "scattercarpet"
           }
          ],
          "scattergeo": [
           {
            "marker": {
             "colorbar": {
              "outlinewidth": 0,
              "ticks": ""
             }
            },
            "type": "scattergeo"
           }
          ],
          "scattergl": [
           {
            "marker": {
             "colorbar": {
              "outlinewidth": 0,
              "ticks": ""
             }
            },
            "type": "scattergl"
           }
          ],
          "scattermapbox": [
           {
            "marker": {
             "colorbar": {
              "outlinewidth": 0,
              "ticks": ""
             }
            },
            "type": "scattermapbox"
           }
          ],
          "scatterpolar": [
           {
            "marker": {
             "colorbar": {
              "outlinewidth": 0,
              "ticks": ""
             }
            },
            "type": "scatterpolar"
           }
          ],
          "scatterpolargl": [
           {
            "marker": {
             "colorbar": {
              "outlinewidth": 0,
              "ticks": ""
             }
            },
            "type": "scatterpolargl"
           }
          ],
          "scatterternary": [
           {
            "marker": {
             "colorbar": {
              "outlinewidth": 0,
              "ticks": ""
             }
            },
            "type": "scatterternary"
           }
          ],
          "surface": [
           {
            "colorbar": {
             "outlinewidth": 0,
             "ticks": ""
            },
            "colorscale": [
             [
              0,
              "#0d0887"
             ],
             [
              0.1111111111111111,
              "#46039f"
             ],
             [
              0.2222222222222222,
              "#7201a8"
             ],
             [
              0.3333333333333333,
              "#9c179e"
             ],
             [
              0.4444444444444444,
              "#bd3786"
             ],
             [
              0.5555555555555556,
              "#d8576b"
             ],
             [
              0.6666666666666666,
              "#ed7953"
             ],
             [
              0.7777777777777778,
              "#fb9f3a"
             ],
             [
              0.8888888888888888,
              "#fdca26"
             ],
             [
              1,
              "#f0f921"
             ]
            ],
            "type": "surface"
           }
          ],
          "table": [
           {
            "cells": {
             "fill": {
              "color": "#EBF0F8"
             },
             "line": {
              "color": "white"
             }
            },
            "header": {
             "fill": {
              "color": "#C8D4E3"
             },
             "line": {
              "color": "white"
             }
            },
            "type": "table"
           }
          ]
         },
         "layout": {
          "annotationdefaults": {
           "arrowcolor": "#2a3f5f",
           "arrowhead": 0,
           "arrowwidth": 1
          },
          "autotypenumbers": "strict",
          "coloraxis": {
           "colorbar": {
            "outlinewidth": 0,
            "ticks": ""
           }
          },
          "colorscale": {
           "diverging": [
            [
             0,
             "#8e0152"
            ],
            [
             0.1,
             "#c51b7d"
            ],
            [
             0.2,
             "#de77ae"
            ],
            [
             0.3,
             "#f1b6da"
            ],
            [
             0.4,
             "#fde0ef"
            ],
            [
             0.5,
             "#f7f7f7"
            ],
            [
             0.6,
             "#e6f5d0"
            ],
            [
             0.7,
             "#b8e186"
            ],
            [
             0.8,
             "#7fbc41"
            ],
            [
             0.9,
             "#4d9221"
            ],
            [
             1,
             "#276419"
            ]
           ],
           "sequential": [
            [
             0,
             "#0d0887"
            ],
            [
             0.1111111111111111,
             "#46039f"
            ],
            [
             0.2222222222222222,
             "#7201a8"
            ],
            [
             0.3333333333333333,
             "#9c179e"
            ],
            [
             0.4444444444444444,
             "#bd3786"
            ],
            [
             0.5555555555555556,
             "#d8576b"
            ],
            [
             0.6666666666666666,
             "#ed7953"
            ],
            [
             0.7777777777777778,
             "#fb9f3a"
            ],
            [
             0.8888888888888888,
             "#fdca26"
            ],
            [
             1,
             "#f0f921"
            ]
           ],
           "sequentialminus": [
            [
             0,
             "#0d0887"
            ],
            [
             0.1111111111111111,
             "#46039f"
            ],
            [
             0.2222222222222222,
             "#7201a8"
            ],
            [
             0.3333333333333333,
             "#9c179e"
            ],
            [
             0.4444444444444444,
             "#bd3786"
            ],
            [
             0.5555555555555556,
             "#d8576b"
            ],
            [
             0.6666666666666666,
             "#ed7953"
            ],
            [
             0.7777777777777778,
             "#fb9f3a"
            ],
            [
             0.8888888888888888,
             "#fdca26"
            ],
            [
             1,
             "#f0f921"
            ]
           ]
          },
          "colorway": [
           "#636efa",
           "#EF553B",
           "#00cc96",
           "#ab63fa",
           "#FFA15A",
           "#19d3f3",
           "#FF6692",
           "#B6E880",
           "#FF97FF",
           "#FECB52"
          ],
          "font": {
           "color": "#2a3f5f"
          },
          "geo": {
           "bgcolor": "white",
           "lakecolor": "white",
           "landcolor": "#E5ECF6",
           "showlakes": true,
           "showland": true,
           "subunitcolor": "white"
          },
          "hoverlabel": {
           "align": "left"
          },
          "hovermode": "closest",
          "mapbox": {
           "style": "light"
          },
          "paper_bgcolor": "white",
          "plot_bgcolor": "#E5ECF6",
          "polar": {
           "angularaxis": {
            "gridcolor": "white",
            "linecolor": "white",
            "ticks": ""
           },
           "bgcolor": "#E5ECF6",
           "radialaxis": {
            "gridcolor": "white",
            "linecolor": "white",
            "ticks": ""
           }
          },
          "scene": {
           "xaxis": {
            "backgroundcolor": "#E5ECF6",
            "gridcolor": "white",
            "gridwidth": 2,
            "linecolor": "white",
            "showbackground": true,
            "ticks": "",
            "zerolinecolor": "white"
           },
           "yaxis": {
            "backgroundcolor": "#E5ECF6",
            "gridcolor": "white",
            "gridwidth": 2,
            "linecolor": "white",
            "showbackground": true,
            "ticks": "",
            "zerolinecolor": "white"
           },
           "zaxis": {
            "backgroundcolor": "#E5ECF6",
            "gridcolor": "white",
            "gridwidth": 2,
            "linecolor": "white",
            "showbackground": true,
            "ticks": "",
            "zerolinecolor": "white"
           }
          },
          "shapedefaults": {
           "line": {
            "color": "#2a3f5f"
           }
          },
          "ternary": {
           "aaxis": {
            "gridcolor": "white",
            "linecolor": "white",
            "ticks": ""
           },
           "baxis": {
            "gridcolor": "white",
            "linecolor": "white",
            "ticks": ""
           },
           "bgcolor": "#E5ECF6",
           "caxis": {
            "gridcolor": "white",
            "linecolor": "white",
            "ticks": ""
           }
          },
          "title": {
           "x": 0.05
          },
          "xaxis": {
           "automargin": true,
           "gridcolor": "white",
           "linecolor": "white",
           "ticks": "",
           "title": {
            "standoff": 15
           },
           "zerolinecolor": "white",
           "zerolinewidth": 2
          },
          "yaxis": {
           "automargin": true,
           "gridcolor": "white",
           "linecolor": "white",
           "ticks": "",
           "title": {
            "standoff": 15
           },
           "zerolinecolor": "white",
           "zerolinewidth": 2
          }
         }
        },
        "title": {
         "text": "Comparisons by Element"
        },
        "xaxis": {
         "anchor": "y",
         "domain": [
          0,
          1
         ],
         "title": {
          "text": "value"
         }
        },
        "yaxis": {
         "anchor": "x",
         "domain": [
          0,
          1
         ],
         "title": {
          "text": "count"
         }
        }
       }
      }
     },
     "metadata": {},
     "output_type": "display_data"
    }
   ],
   "source": [
    "n = 1024\n",
    "test = list(range(n))\n",
    "comparisons = {x: 0 for x in test}\n",
    "random.shuffle(test)\n",
    "mergeSort(test, comparisons)\n",
    "\n",
    "px.histogram(pd.Series(comparisons, name = \"Comparisons\"), title = \"Comparisons by Element\")"
   ]
  },
  {
   "cell_type": "markdown",
   "metadata": {},
   "source": [
    "### Tournament Sort"
   ]
  },
  {
   "cell_type": "code",
   "execution_count": 165,
   "metadata": {},
   "outputs": [],
   "source": [
    "result = {\"n\": [], \"Most Comparisons\": [], \"Least Comparisons\": []}\n",
    "m = 250\n",
    "\n",
    "for i in range(7, 11):\n",
    "    n = 2**i\n",
    "    mins = []\n",
    "    maxes = []\n",
    "    for _ in range(m):\n",
    "        teams = []\n",
    "        for i in range(n):\n",
    "            teams.append(Team(i, i))\n",
    "        T = Tournament(teams)\n",
    "        T.tournamentSort()\n",
    "        mins.append(min(T.comparisons.values()))\n",
    "        maxes.append(max(T.comparisons.values()))\n",
    "    result[\"n\"].append(n)\n",
    "    result[\"Most Comparisons\"].append(mean(maxes))\n",
    "    result[\"Least Comparisons\"].append(mean(mins))"
   ]
  },
  {
   "cell_type": "code",
   "execution_count": 166,
   "metadata": {},
   "outputs": [
    {
     "data": {
      "text/html": [
       "<div>\n",
       "<style scoped>\n",
       "    .dataframe tbody tr th:only-of-type {\n",
       "        vertical-align: middle;\n",
       "    }\n",
       "\n",
       "    .dataframe tbody tr th {\n",
       "        vertical-align: top;\n",
       "    }\n",
       "\n",
       "    .dataframe thead th {\n",
       "        text-align: right;\n",
       "    }\n",
       "</style>\n",
       "<table border=\"1\" class=\"dataframe\">\n",
       "  <thead>\n",
       "    <tr style=\"text-align: right;\">\n",
       "      <th></th>\n",
       "      <th>Most Comparisons</th>\n",
       "      <th>Least Comparisons</th>\n",
       "    </tr>\n",
       "    <tr>\n",
       "      <th>n</th>\n",
       "      <th></th>\n",
       "      <th></th>\n",
       "    </tr>\n",
       "  </thead>\n",
       "  <tbody>\n",
       "    <tr>\n",
       "      <th>128</th>\n",
       "      <td>21.012</td>\n",
       "      <td>4.512</td>\n",
       "    </tr>\n",
       "    <tr>\n",
       "      <th>256</th>\n",
       "      <td>25.228</td>\n",
       "      <td>5.236</td>\n",
       "    </tr>\n",
       "    <tr>\n",
       "      <th>512</th>\n",
       "      <td>29.336</td>\n",
       "      <td>5.684</td>\n",
       "    </tr>\n",
       "    <tr>\n",
       "      <th>1024</th>\n",
       "      <td>33.692</td>\n",
       "      <td>6.312</td>\n",
       "    </tr>\n",
       "  </tbody>\n",
       "</table>\n",
       "</div>"
      ],
      "text/plain": [
       "      Most Comparisons  Least Comparisons\n",
       "n                                        \n",
       "128             21.012              4.512\n",
       "256             25.228              5.236\n",
       "512             29.336              5.684\n",
       "1024            33.692              6.312"
      ]
     },
     "metadata": {},
     "output_type": "display_data"
    },
    {
     "data": {
      "application/vnd.plotly.v1+json": {
       "config": {
        "plotlyServerURL": "https://plot.ly"
       },
       "data": [
        {
         "hovertemplate": "variable=Most Comparisons<br>n=%{x}<br>Comparisons=%{y}<extra></extra>",
         "legendgroup": "Most Comparisons",
         "line": {
          "color": "#636efa",
          "dash": "solid"
         },
         "marker": {
          "symbol": "circle"
         },
         "mode": "lines",
         "name": "Most Comparisons",
         "orientation": "v",
         "showlegend": true,
         "type": "scatter",
         "x": [
          128,
          256,
          512,
          1024
         ],
         "xaxis": "x",
         "y": [
          21.012,
          25.228,
          29.336,
          33.692
         ],
         "yaxis": "y"
        },
        {
         "hovertemplate": "variable=Least Comparisons<br>n=%{x}<br>Comparisons=%{y}<extra></extra>",
         "legendgroup": "Least Comparisons",
         "line": {
          "color": "#EF553B",
          "dash": "solid"
         },
         "marker": {
          "symbol": "circle"
         },
         "mode": "lines",
         "name": "Least Comparisons",
         "orientation": "v",
         "showlegend": true,
         "type": "scatter",
         "x": [
          128,
          256,
          512,
          1024
         ],
         "xaxis": "x",
         "y": [
          4.512,
          5.236,
          5.684,
          6.312
         ],
         "yaxis": "y"
        }
       ],
       "layout": {
        "legend": {
         "title": {
          "text": "variable"
         },
         "tracegroupgap": 0
        },
        "template": {
         "data": {
          "bar": [
           {
            "error_x": {
             "color": "#2a3f5f"
            },
            "error_y": {
             "color": "#2a3f5f"
            },
            "marker": {
             "line": {
              "color": "#E5ECF6",
              "width": 0.5
             },
             "pattern": {
              "fillmode": "overlay",
              "size": 10,
              "solidity": 0.2
             }
            },
            "type": "bar"
           }
          ],
          "barpolar": [
           {
            "marker": {
             "line": {
              "color": "#E5ECF6",
              "width": 0.5
             },
             "pattern": {
              "fillmode": "overlay",
              "size": 10,
              "solidity": 0.2
             }
            },
            "type": "barpolar"
           }
          ],
          "carpet": [
           {
            "aaxis": {
             "endlinecolor": "#2a3f5f",
             "gridcolor": "white",
             "linecolor": "white",
             "minorgridcolor": "white",
             "startlinecolor": "#2a3f5f"
            },
            "baxis": {
             "endlinecolor": "#2a3f5f",
             "gridcolor": "white",
             "linecolor": "white",
             "minorgridcolor": "white",
             "startlinecolor": "#2a3f5f"
            },
            "type": "carpet"
           }
          ],
          "choropleth": [
           {
            "colorbar": {
             "outlinewidth": 0,
             "ticks": ""
            },
            "type": "choropleth"
           }
          ],
          "contour": [
           {
            "colorbar": {
             "outlinewidth": 0,
             "ticks": ""
            },
            "colorscale": [
             [
              0,
              "#0d0887"
             ],
             [
              0.1111111111111111,
              "#46039f"
             ],
             [
              0.2222222222222222,
              "#7201a8"
             ],
             [
              0.3333333333333333,
              "#9c179e"
             ],
             [
              0.4444444444444444,
              "#bd3786"
             ],
             [
              0.5555555555555556,
              "#d8576b"
             ],
             [
              0.6666666666666666,
              "#ed7953"
             ],
             [
              0.7777777777777778,
              "#fb9f3a"
             ],
             [
              0.8888888888888888,
              "#fdca26"
             ],
             [
              1,
              "#f0f921"
             ]
            ],
            "type": "contour"
           }
          ],
          "contourcarpet": [
           {
            "colorbar": {
             "outlinewidth": 0,
             "ticks": ""
            },
            "type": "contourcarpet"
           }
          ],
          "heatmap": [
           {
            "colorbar": {
             "outlinewidth": 0,
             "ticks": ""
            },
            "colorscale": [
             [
              0,
              "#0d0887"
             ],
             [
              0.1111111111111111,
              "#46039f"
             ],
             [
              0.2222222222222222,
              "#7201a8"
             ],
             [
              0.3333333333333333,
              "#9c179e"
             ],
             [
              0.4444444444444444,
              "#bd3786"
             ],
             [
              0.5555555555555556,
              "#d8576b"
             ],
             [
              0.6666666666666666,
              "#ed7953"
             ],
             [
              0.7777777777777778,
              "#fb9f3a"
             ],
             [
              0.8888888888888888,
              "#fdca26"
             ],
             [
              1,
              "#f0f921"
             ]
            ],
            "type": "heatmap"
           }
          ],
          "heatmapgl": [
           {
            "colorbar": {
             "outlinewidth": 0,
             "ticks": ""
            },
            "colorscale": [
             [
              0,
              "#0d0887"
             ],
             [
              0.1111111111111111,
              "#46039f"
             ],
             [
              0.2222222222222222,
              "#7201a8"
             ],
             [
              0.3333333333333333,
              "#9c179e"
             ],
             [
              0.4444444444444444,
              "#bd3786"
             ],
             [
              0.5555555555555556,
              "#d8576b"
             ],
             [
              0.6666666666666666,
              "#ed7953"
             ],
             [
              0.7777777777777778,
              "#fb9f3a"
             ],
             [
              0.8888888888888888,
              "#fdca26"
             ],
             [
              1,
              "#f0f921"
             ]
            ],
            "type": "heatmapgl"
           }
          ],
          "histogram": [
           {
            "marker": {
             "pattern": {
              "fillmode": "overlay",
              "size": 10,
              "solidity": 0.2
             }
            },
            "type": "histogram"
           }
          ],
          "histogram2d": [
           {
            "colorbar": {
             "outlinewidth": 0,
             "ticks": ""
            },
            "colorscale": [
             [
              0,
              "#0d0887"
             ],
             [
              0.1111111111111111,
              "#46039f"
             ],
             [
              0.2222222222222222,
              "#7201a8"
             ],
             [
              0.3333333333333333,
              "#9c179e"
             ],
             [
              0.4444444444444444,
              "#bd3786"
             ],
             [
              0.5555555555555556,
              "#d8576b"
             ],
             [
              0.6666666666666666,
              "#ed7953"
             ],
             [
              0.7777777777777778,
              "#fb9f3a"
             ],
             [
              0.8888888888888888,
              "#fdca26"
             ],
             [
              1,
              "#f0f921"
             ]
            ],
            "type": "histogram2d"
           }
          ],
          "histogram2dcontour": [
           {
            "colorbar": {
             "outlinewidth": 0,
             "ticks": ""
            },
            "colorscale": [
             [
              0,
              "#0d0887"
             ],
             [
              0.1111111111111111,
              "#46039f"
             ],
             [
              0.2222222222222222,
              "#7201a8"
             ],
             [
              0.3333333333333333,
              "#9c179e"
             ],
             [
              0.4444444444444444,
              "#bd3786"
             ],
             [
              0.5555555555555556,
              "#d8576b"
             ],
             [
              0.6666666666666666,
              "#ed7953"
             ],
             [
              0.7777777777777778,
              "#fb9f3a"
             ],
             [
              0.8888888888888888,
              "#fdca26"
             ],
             [
              1,
              "#f0f921"
             ]
            ],
            "type": "histogram2dcontour"
           }
          ],
          "mesh3d": [
           {
            "colorbar": {
             "outlinewidth": 0,
             "ticks": ""
            },
            "type": "mesh3d"
           }
          ],
          "parcoords": [
           {
            "line": {
             "colorbar": {
              "outlinewidth": 0,
              "ticks": ""
             }
            },
            "type": "parcoords"
           }
          ],
          "pie": [
           {
            "automargin": true,
            "type": "pie"
           }
          ],
          "scatter": [
           {
            "fillpattern": {
             "fillmode": "overlay",
             "size": 10,
             "solidity": 0.2
            },
            "type": "scatter"
           }
          ],
          "scatter3d": [
           {
            "line": {
             "colorbar": {
              "outlinewidth": 0,
              "ticks": ""
             }
            },
            "marker": {
             "colorbar": {
              "outlinewidth": 0,
              "ticks": ""
             }
            },
            "type": "scatter3d"
           }
          ],
          "scattercarpet": [
           {
            "marker": {
             "colorbar": {
              "outlinewidth": 0,
              "ticks": ""
             }
            },
            "type": "scattercarpet"
           }
          ],
          "scattergeo": [
           {
            "marker": {
             "colorbar": {
              "outlinewidth": 0,
              "ticks": ""
             }
            },
            "type": "scattergeo"
           }
          ],
          "scattergl": [
           {
            "marker": {
             "colorbar": {
              "outlinewidth": 0,
              "ticks": ""
             }
            },
            "type": "scattergl"
           }
          ],
          "scattermapbox": [
           {
            "marker": {
             "colorbar": {
              "outlinewidth": 0,
              "ticks": ""
             }
            },
            "type": "scattermapbox"
           }
          ],
          "scatterpolar": [
           {
            "marker": {
             "colorbar": {
              "outlinewidth": 0,
              "ticks": ""
             }
            },
            "type": "scatterpolar"
           }
          ],
          "scatterpolargl": [
           {
            "marker": {
             "colorbar": {
              "outlinewidth": 0,
              "ticks": ""
             }
            },
            "type": "scatterpolargl"
           }
          ],
          "scatterternary": [
           {
            "marker": {
             "colorbar": {
              "outlinewidth": 0,
              "ticks": ""
             }
            },
            "type": "scatterternary"
           }
          ],
          "surface": [
           {
            "colorbar": {
             "outlinewidth": 0,
             "ticks": ""
            },
            "colorscale": [
             [
              0,
              "#0d0887"
             ],
             [
              0.1111111111111111,
              "#46039f"
             ],
             [
              0.2222222222222222,
              "#7201a8"
             ],
             [
              0.3333333333333333,
              "#9c179e"
             ],
             [
              0.4444444444444444,
              "#bd3786"
             ],
             [
              0.5555555555555556,
              "#d8576b"
             ],
             [
              0.6666666666666666,
              "#ed7953"
             ],
             [
              0.7777777777777778,
              "#fb9f3a"
             ],
             [
              0.8888888888888888,
              "#fdca26"
             ],
             [
              1,
              "#f0f921"
             ]
            ],
            "type": "surface"
           }
          ],
          "table": [
           {
            "cells": {
             "fill": {
              "color": "#EBF0F8"
             },
             "line": {
              "color": "white"
             }
            },
            "header": {
             "fill": {
              "color": "#C8D4E3"
             },
             "line": {
              "color": "white"
             }
            },
            "type": "table"
           }
          ]
         },
         "layout": {
          "annotationdefaults": {
           "arrowcolor": "#2a3f5f",
           "arrowhead": 0,
           "arrowwidth": 1
          },
          "autotypenumbers": "strict",
          "coloraxis": {
           "colorbar": {
            "outlinewidth": 0,
            "ticks": ""
           }
          },
          "colorscale": {
           "diverging": [
            [
             0,
             "#8e0152"
            ],
            [
             0.1,
             "#c51b7d"
            ],
            [
             0.2,
             "#de77ae"
            ],
            [
             0.3,
             "#f1b6da"
            ],
            [
             0.4,
             "#fde0ef"
            ],
            [
             0.5,
             "#f7f7f7"
            ],
            [
             0.6,
             "#e6f5d0"
            ],
            [
             0.7,
             "#b8e186"
            ],
            [
             0.8,
             "#7fbc41"
            ],
            [
             0.9,
             "#4d9221"
            ],
            [
             1,
             "#276419"
            ]
           ],
           "sequential": [
            [
             0,
             "#0d0887"
            ],
            [
             0.1111111111111111,
             "#46039f"
            ],
            [
             0.2222222222222222,
             "#7201a8"
            ],
            [
             0.3333333333333333,
             "#9c179e"
            ],
            [
             0.4444444444444444,
             "#bd3786"
            ],
            [
             0.5555555555555556,
             "#d8576b"
            ],
            [
             0.6666666666666666,
             "#ed7953"
            ],
            [
             0.7777777777777778,
             "#fb9f3a"
            ],
            [
             0.8888888888888888,
             "#fdca26"
            ],
            [
             1,
             "#f0f921"
            ]
           ],
           "sequentialminus": [
            [
             0,
             "#0d0887"
            ],
            [
             0.1111111111111111,
             "#46039f"
            ],
            [
             0.2222222222222222,
             "#7201a8"
            ],
            [
             0.3333333333333333,
             "#9c179e"
            ],
            [
             0.4444444444444444,
             "#bd3786"
            ],
            [
             0.5555555555555556,
             "#d8576b"
            ],
            [
             0.6666666666666666,
             "#ed7953"
            ],
            [
             0.7777777777777778,
             "#fb9f3a"
            ],
            [
             0.8888888888888888,
             "#fdca26"
            ],
            [
             1,
             "#f0f921"
            ]
           ]
          },
          "colorway": [
           "#636efa",
           "#EF553B",
           "#00cc96",
           "#ab63fa",
           "#FFA15A",
           "#19d3f3",
           "#FF6692",
           "#B6E880",
           "#FF97FF",
           "#FECB52"
          ],
          "font": {
           "color": "#2a3f5f"
          },
          "geo": {
           "bgcolor": "white",
           "lakecolor": "white",
           "landcolor": "#E5ECF6",
           "showlakes": true,
           "showland": true,
           "subunitcolor": "white"
          },
          "hoverlabel": {
           "align": "left"
          },
          "hovermode": "closest",
          "mapbox": {
           "style": "light"
          },
          "paper_bgcolor": "white",
          "plot_bgcolor": "#E5ECF6",
          "polar": {
           "angularaxis": {
            "gridcolor": "white",
            "linecolor": "white",
            "ticks": ""
           },
           "bgcolor": "#E5ECF6",
           "radialaxis": {
            "gridcolor": "white",
            "linecolor": "white",
            "ticks": ""
           }
          },
          "scene": {
           "xaxis": {
            "backgroundcolor": "#E5ECF6",
            "gridcolor": "white",
            "gridwidth": 2,
            "linecolor": "white",
            "showbackground": true,
            "ticks": "",
            "zerolinecolor": "white"
           },
           "yaxis": {
            "backgroundcolor": "#E5ECF6",
            "gridcolor": "white",
            "gridwidth": 2,
            "linecolor": "white",
            "showbackground": true,
            "ticks": "",
            "zerolinecolor": "white"
           },
           "zaxis": {
            "backgroundcolor": "#E5ECF6",
            "gridcolor": "white",
            "gridwidth": 2,
            "linecolor": "white",
            "showbackground": true,
            "ticks": "",
            "zerolinecolor": "white"
           }
          },
          "shapedefaults": {
           "line": {
            "color": "#2a3f5f"
           }
          },
          "ternary": {
           "aaxis": {
            "gridcolor": "white",
            "linecolor": "white",
            "ticks": ""
           },
           "baxis": {
            "gridcolor": "white",
            "linecolor": "white",
            "ticks": ""
           },
           "bgcolor": "#E5ECF6",
           "caxis": {
            "gridcolor": "white",
            "linecolor": "white",
            "ticks": ""
           }
          },
          "title": {
           "x": 0.05
          },
          "xaxis": {
           "automargin": true,
           "gridcolor": "white",
           "linecolor": "white",
           "ticks": "",
           "title": {
            "standoff": 15
           },
           "zerolinecolor": "white",
           "zerolinewidth": 2
          },
          "yaxis": {
           "automargin": true,
           "gridcolor": "white",
           "linecolor": "white",
           "ticks": "",
           "title": {
            "standoff": 15
           },
           "zerolinecolor": "white",
           "zerolinewidth": 2
          }
         }
        },
        "title": {
         "text": "Average Number of Comparisons by Element"
        },
        "xaxis": {
         "anchor": "y",
         "domain": [
          0,
          1
         ],
         "title": {
          "text": "n"
         }
        },
        "yaxis": {
         "anchor": "x",
         "domain": [
          0,
          1
         ],
         "title": {
          "text": "Comparisons"
         }
        }
       }
      }
     },
     "metadata": {},
     "output_type": "display_data"
    }
   ],
   "source": [
    "df = pd.DataFrame(result)\n",
    "df = df.set_index(\"n\")\n",
    "display(df)\n",
    "px.line(df, title = \"Average Number of Comparisons by Element\", labels = {\"value\": \"Comparisons\"})"
   ]
  },
  {
   "cell_type": "code",
   "execution_count": 170,
   "metadata": {},
   "outputs": [],
   "source": [
    "n = 1024\n",
    "m = 250\n",
    "mins = []\n",
    "maxes = []\n",
    "for _ in range(m):\n",
    "        teams = []\n",
    "        for i in range(n):\n",
    "            teams.append(Team(i, i))\n",
    "        T = Tournament(teams)\n",
    "        T.tournamentSort()\n",
    "        mins.append(min(T.comparisons.values()))\n",
    "        maxes.append(max(T.comparisons.values()))"
   ]
  },
  {
   "cell_type": "code",
   "execution_count": 171,
   "metadata": {},
   "outputs": [
    {
     "data": {
      "application/vnd.plotly.v1+json": {
       "config": {
        "plotlyServerURL": "https://plot.ly"
       },
       "data": [
        {
         "alignmentgroup": "True",
         "bingroup": "x",
         "hovertemplate": "variable=Max Comparisons<br>value=%{x}<br>count=%{y}<extra></extra>",
         "legendgroup": "Max Comparisons",
         "marker": {
          "color": "#636efa",
          "pattern": {
           "shape": ""
          }
         },
         "name": "Max Comparisons",
         "offsetgroup": "Max Comparisons",
         "orientation": "v",
         "showlegend": true,
         "type": "histogram",
         "x": [
          41,
          32,
          31,
          32,
          34,
          34,
          34,
          36,
          34,
          34,
          34,
          35,
          30,
          36,
          37,
          31,
          33,
          31,
          35,
          34,
          31,
          39,
          34,
          33,
          33,
          34,
          38,
          34,
          32,
          34,
          36,
          33,
          33,
          36,
          31,
          31,
          34,
          37,
          37,
          37,
          32,
          31,
          32,
          34,
          33,
          34,
          32,
          33,
          31,
          33,
          34,
          32,
          32,
          32,
          33,
          30,
          38,
          37,
          31,
          34,
          33,
          31,
          42,
          36,
          32,
          33,
          32,
          34,
          33,
          32,
          31,
          32,
          31,
          34,
          30,
          32,
          34,
          31,
          32,
          34,
          34,
          36,
          33,
          33,
          33,
          33,
          36,
          33,
          32,
          34,
          37,
          34,
          36,
          33,
          37,
          34,
          32,
          30,
          32,
          40,
          32,
          33,
          34,
          36,
          37,
          30,
          39,
          35,
          33,
          34,
          35,
          33,
          32,
          34,
          35,
          31,
          32,
          34,
          31,
          33,
          31,
          32,
          37,
          33,
          35,
          31,
          32,
          32,
          30,
          34,
          34,
          34,
          38,
          33,
          33,
          30,
          42,
          30,
          31,
          34,
          34,
          33,
          34,
          32,
          32,
          32,
          32,
          35,
          37,
          35,
          32,
          32,
          30,
          33,
          32,
          32,
          30,
          32,
          32,
          37,
          37,
          32,
          32,
          31,
          36,
          38,
          32,
          32,
          35,
          36,
          32,
          36,
          32,
          35,
          32,
          31,
          32,
          31,
          33,
          35,
          40,
          31,
          31,
          33,
          37,
          33,
          33,
          31,
          35,
          33,
          34,
          40,
          31,
          35,
          34,
          34,
          35,
          35,
          32,
          37,
          32,
          33,
          31,
          33,
          36,
          38,
          36,
          35,
          34,
          35,
          35,
          34,
          34,
          31,
          32,
          31,
          35,
          30,
          37,
          33,
          35,
          35,
          43,
          32,
          31,
          35,
          32,
          33,
          36,
          35,
          33,
          31,
          32,
          32,
          35,
          35,
          33,
          32,
          34,
          34,
          35,
          32,
          32,
          33,
          34,
          37,
          32,
          35,
          33,
          36
         ],
         "xaxis": "x",
         "yaxis": "y"
        }
       ],
       "layout": {
        "barmode": "relative",
        "legend": {
         "title": {
          "text": "variable"
         },
         "tracegroupgap": 0
        },
        "template": {
         "data": {
          "bar": [
           {
            "error_x": {
             "color": "#2a3f5f"
            },
            "error_y": {
             "color": "#2a3f5f"
            },
            "marker": {
             "line": {
              "color": "#E5ECF6",
              "width": 0.5
             },
             "pattern": {
              "fillmode": "overlay",
              "size": 10,
              "solidity": 0.2
             }
            },
            "type": "bar"
           }
          ],
          "barpolar": [
           {
            "marker": {
             "line": {
              "color": "#E5ECF6",
              "width": 0.5
             },
             "pattern": {
              "fillmode": "overlay",
              "size": 10,
              "solidity": 0.2
             }
            },
            "type": "barpolar"
           }
          ],
          "carpet": [
           {
            "aaxis": {
             "endlinecolor": "#2a3f5f",
             "gridcolor": "white",
             "linecolor": "white",
             "minorgridcolor": "white",
             "startlinecolor": "#2a3f5f"
            },
            "baxis": {
             "endlinecolor": "#2a3f5f",
             "gridcolor": "white",
             "linecolor": "white",
             "minorgridcolor": "white",
             "startlinecolor": "#2a3f5f"
            },
            "type": "carpet"
           }
          ],
          "choropleth": [
           {
            "colorbar": {
             "outlinewidth": 0,
             "ticks": ""
            },
            "type": "choropleth"
           }
          ],
          "contour": [
           {
            "colorbar": {
             "outlinewidth": 0,
             "ticks": ""
            },
            "colorscale": [
             [
              0,
              "#0d0887"
             ],
             [
              0.1111111111111111,
              "#46039f"
             ],
             [
              0.2222222222222222,
              "#7201a8"
             ],
             [
              0.3333333333333333,
              "#9c179e"
             ],
             [
              0.4444444444444444,
              "#bd3786"
             ],
             [
              0.5555555555555556,
              "#d8576b"
             ],
             [
              0.6666666666666666,
              "#ed7953"
             ],
             [
              0.7777777777777778,
              "#fb9f3a"
             ],
             [
              0.8888888888888888,
              "#fdca26"
             ],
             [
              1,
              "#f0f921"
             ]
            ],
            "type": "contour"
           }
          ],
          "contourcarpet": [
           {
            "colorbar": {
             "outlinewidth": 0,
             "ticks": ""
            },
            "type": "contourcarpet"
           }
          ],
          "heatmap": [
           {
            "colorbar": {
             "outlinewidth": 0,
             "ticks": ""
            },
            "colorscale": [
             [
              0,
              "#0d0887"
             ],
             [
              0.1111111111111111,
              "#46039f"
             ],
             [
              0.2222222222222222,
              "#7201a8"
             ],
             [
              0.3333333333333333,
              "#9c179e"
             ],
             [
              0.4444444444444444,
              "#bd3786"
             ],
             [
              0.5555555555555556,
              "#d8576b"
             ],
             [
              0.6666666666666666,
              "#ed7953"
             ],
             [
              0.7777777777777778,
              "#fb9f3a"
             ],
             [
              0.8888888888888888,
              "#fdca26"
             ],
             [
              1,
              "#f0f921"
             ]
            ],
            "type": "heatmap"
           }
          ],
          "heatmapgl": [
           {
            "colorbar": {
             "outlinewidth": 0,
             "ticks": ""
            },
            "colorscale": [
             [
              0,
              "#0d0887"
             ],
             [
              0.1111111111111111,
              "#46039f"
             ],
             [
              0.2222222222222222,
              "#7201a8"
             ],
             [
              0.3333333333333333,
              "#9c179e"
             ],
             [
              0.4444444444444444,
              "#bd3786"
             ],
             [
              0.5555555555555556,
              "#d8576b"
             ],
             [
              0.6666666666666666,
              "#ed7953"
             ],
             [
              0.7777777777777778,
              "#fb9f3a"
             ],
             [
              0.8888888888888888,
              "#fdca26"
             ],
             [
              1,
              "#f0f921"
             ]
            ],
            "type": "heatmapgl"
           }
          ],
          "histogram": [
           {
            "marker": {
             "pattern": {
              "fillmode": "overlay",
              "size": 10,
              "solidity": 0.2
             }
            },
            "type": "histogram"
           }
          ],
          "histogram2d": [
           {
            "colorbar": {
             "outlinewidth": 0,
             "ticks": ""
            },
            "colorscale": [
             [
              0,
              "#0d0887"
             ],
             [
              0.1111111111111111,
              "#46039f"
             ],
             [
              0.2222222222222222,
              "#7201a8"
             ],
             [
              0.3333333333333333,
              "#9c179e"
             ],
             [
              0.4444444444444444,
              "#bd3786"
             ],
             [
              0.5555555555555556,
              "#d8576b"
             ],
             [
              0.6666666666666666,
              "#ed7953"
             ],
             [
              0.7777777777777778,
              "#fb9f3a"
             ],
             [
              0.8888888888888888,
              "#fdca26"
             ],
             [
              1,
              "#f0f921"
             ]
            ],
            "type": "histogram2d"
           }
          ],
          "histogram2dcontour": [
           {
            "colorbar": {
             "outlinewidth": 0,
             "ticks": ""
            },
            "colorscale": [
             [
              0,
              "#0d0887"
             ],
             [
              0.1111111111111111,
              "#46039f"
             ],
             [
              0.2222222222222222,
              "#7201a8"
             ],
             [
              0.3333333333333333,
              "#9c179e"
             ],
             [
              0.4444444444444444,
              "#bd3786"
             ],
             [
              0.5555555555555556,
              "#d8576b"
             ],
             [
              0.6666666666666666,
              "#ed7953"
             ],
             [
              0.7777777777777778,
              "#fb9f3a"
             ],
             [
              0.8888888888888888,
              "#fdca26"
             ],
             [
              1,
              "#f0f921"
             ]
            ],
            "type": "histogram2dcontour"
           }
          ],
          "mesh3d": [
           {
            "colorbar": {
             "outlinewidth": 0,
             "ticks": ""
            },
            "type": "mesh3d"
           }
          ],
          "parcoords": [
           {
            "line": {
             "colorbar": {
              "outlinewidth": 0,
              "ticks": ""
             }
            },
            "type": "parcoords"
           }
          ],
          "pie": [
           {
            "automargin": true,
            "type": "pie"
           }
          ],
          "scatter": [
           {
            "fillpattern": {
             "fillmode": "overlay",
             "size": 10,
             "solidity": 0.2
            },
            "type": "scatter"
           }
          ],
          "scatter3d": [
           {
            "line": {
             "colorbar": {
              "outlinewidth": 0,
              "ticks": ""
             }
            },
            "marker": {
             "colorbar": {
              "outlinewidth": 0,
              "ticks": ""
             }
            },
            "type": "scatter3d"
           }
          ],
          "scattercarpet": [
           {
            "marker": {
             "colorbar": {
              "outlinewidth": 0,
              "ticks": ""
             }
            },
            "type": "scattercarpet"
           }
          ],
          "scattergeo": [
           {
            "marker": {
             "colorbar": {
              "outlinewidth": 0,
              "ticks": ""
             }
            },
            "type": "scattergeo"
           }
          ],
          "scattergl": [
           {
            "marker": {
             "colorbar": {
              "outlinewidth": 0,
              "ticks": ""
             }
            },
            "type": "scattergl"
           }
          ],
          "scattermapbox": [
           {
            "marker": {
             "colorbar": {
              "outlinewidth": 0,
              "ticks": ""
             }
            },
            "type": "scattermapbox"
           }
          ],
          "scatterpolar": [
           {
            "marker": {
             "colorbar": {
              "outlinewidth": 0,
              "ticks": ""
             }
            },
            "type": "scatterpolar"
           }
          ],
          "scatterpolargl": [
           {
            "marker": {
             "colorbar": {
              "outlinewidth": 0,
              "ticks": ""
             }
            },
            "type": "scatterpolargl"
           }
          ],
          "scatterternary": [
           {
            "marker": {
             "colorbar": {
              "outlinewidth": 0,
              "ticks": ""
             }
            },
            "type": "scatterternary"
           }
          ],
          "surface": [
           {
            "colorbar": {
             "outlinewidth": 0,
             "ticks": ""
            },
            "colorscale": [
             [
              0,
              "#0d0887"
             ],
             [
              0.1111111111111111,
              "#46039f"
             ],
             [
              0.2222222222222222,
              "#7201a8"
             ],
             [
              0.3333333333333333,
              "#9c179e"
             ],
             [
              0.4444444444444444,
              "#bd3786"
             ],
             [
              0.5555555555555556,
              "#d8576b"
             ],
             [
              0.6666666666666666,
              "#ed7953"
             ],
             [
              0.7777777777777778,
              "#fb9f3a"
             ],
             [
              0.8888888888888888,
              "#fdca26"
             ],
             [
              1,
              "#f0f921"
             ]
            ],
            "type": "surface"
           }
          ],
          "table": [
           {
            "cells": {
             "fill": {
              "color": "#EBF0F8"
             },
             "line": {
              "color": "white"
             }
            },
            "header": {
             "fill": {
              "color": "#C8D4E3"
             },
             "line": {
              "color": "white"
             }
            },
            "type": "table"
           }
          ]
         },
         "layout": {
          "annotationdefaults": {
           "arrowcolor": "#2a3f5f",
           "arrowhead": 0,
           "arrowwidth": 1
          },
          "autotypenumbers": "strict",
          "coloraxis": {
           "colorbar": {
            "outlinewidth": 0,
            "ticks": ""
           }
          },
          "colorscale": {
           "diverging": [
            [
             0,
             "#8e0152"
            ],
            [
             0.1,
             "#c51b7d"
            ],
            [
             0.2,
             "#de77ae"
            ],
            [
             0.3,
             "#f1b6da"
            ],
            [
             0.4,
             "#fde0ef"
            ],
            [
             0.5,
             "#f7f7f7"
            ],
            [
             0.6,
             "#e6f5d0"
            ],
            [
             0.7,
             "#b8e186"
            ],
            [
             0.8,
             "#7fbc41"
            ],
            [
             0.9,
             "#4d9221"
            ],
            [
             1,
             "#276419"
            ]
           ],
           "sequential": [
            [
             0,
             "#0d0887"
            ],
            [
             0.1111111111111111,
             "#46039f"
            ],
            [
             0.2222222222222222,
             "#7201a8"
            ],
            [
             0.3333333333333333,
             "#9c179e"
            ],
            [
             0.4444444444444444,
             "#bd3786"
            ],
            [
             0.5555555555555556,
             "#d8576b"
            ],
            [
             0.6666666666666666,
             "#ed7953"
            ],
            [
             0.7777777777777778,
             "#fb9f3a"
            ],
            [
             0.8888888888888888,
             "#fdca26"
            ],
            [
             1,
             "#f0f921"
            ]
           ],
           "sequentialminus": [
            [
             0,
             "#0d0887"
            ],
            [
             0.1111111111111111,
             "#46039f"
            ],
            [
             0.2222222222222222,
             "#7201a8"
            ],
            [
             0.3333333333333333,
             "#9c179e"
            ],
            [
             0.4444444444444444,
             "#bd3786"
            ],
            [
             0.5555555555555556,
             "#d8576b"
            ],
            [
             0.6666666666666666,
             "#ed7953"
            ],
            [
             0.7777777777777778,
             "#fb9f3a"
            ],
            [
             0.8888888888888888,
             "#fdca26"
            ],
            [
             1,
             "#f0f921"
            ]
           ]
          },
          "colorway": [
           "#636efa",
           "#EF553B",
           "#00cc96",
           "#ab63fa",
           "#FFA15A",
           "#19d3f3",
           "#FF6692",
           "#B6E880",
           "#FF97FF",
           "#FECB52"
          ],
          "font": {
           "color": "#2a3f5f"
          },
          "geo": {
           "bgcolor": "white",
           "lakecolor": "white",
           "landcolor": "#E5ECF6",
           "showlakes": true,
           "showland": true,
           "subunitcolor": "white"
          },
          "hoverlabel": {
           "align": "left"
          },
          "hovermode": "closest",
          "mapbox": {
           "style": "light"
          },
          "paper_bgcolor": "white",
          "plot_bgcolor": "#E5ECF6",
          "polar": {
           "angularaxis": {
            "gridcolor": "white",
            "linecolor": "white",
            "ticks": ""
           },
           "bgcolor": "#E5ECF6",
           "radialaxis": {
            "gridcolor": "white",
            "linecolor": "white",
            "ticks": ""
           }
          },
          "scene": {
           "xaxis": {
            "backgroundcolor": "#E5ECF6",
            "gridcolor": "white",
            "gridwidth": 2,
            "linecolor": "white",
            "showbackground": true,
            "ticks": "",
            "zerolinecolor": "white"
           },
           "yaxis": {
            "backgroundcolor": "#E5ECF6",
            "gridcolor": "white",
            "gridwidth": 2,
            "linecolor": "white",
            "showbackground": true,
            "ticks": "",
            "zerolinecolor": "white"
           },
           "zaxis": {
            "backgroundcolor": "#E5ECF6",
            "gridcolor": "white",
            "gridwidth": 2,
            "linecolor": "white",
            "showbackground": true,
            "ticks": "",
            "zerolinecolor": "white"
           }
          },
          "shapedefaults": {
           "line": {
            "color": "#2a3f5f"
           }
          },
          "ternary": {
           "aaxis": {
            "gridcolor": "white",
            "linecolor": "white",
            "ticks": ""
           },
           "baxis": {
            "gridcolor": "white",
            "linecolor": "white",
            "ticks": ""
           },
           "bgcolor": "#E5ECF6",
           "caxis": {
            "gridcolor": "white",
            "linecolor": "white",
            "ticks": ""
           }
          },
          "title": {
           "x": 0.05
          },
          "xaxis": {
           "automargin": true,
           "gridcolor": "white",
           "linecolor": "white",
           "ticks": "",
           "title": {
            "standoff": 15
           },
           "zerolinecolor": "white",
           "zerolinewidth": 2
          },
          "yaxis": {
           "automargin": true,
           "gridcolor": "white",
           "linecolor": "white",
           "ticks": "",
           "title": {
            "standoff": 15
           },
           "zerolinecolor": "white",
           "zerolinewidth": 2
          }
         }
        },
        "title": {
         "text": "Max Number of Comparisons by Element"
        },
        "xaxis": {
         "anchor": "y",
         "domain": [
          0,
          1
         ],
         "title": {
          "text": "value"
         }
        },
        "yaxis": {
         "anchor": "x",
         "domain": [
          0,
          1
         ],
         "title": {
          "text": "count"
         }
        }
       }
      }
     },
     "metadata": {},
     "output_type": "display_data"
    }
   ],
   "source": [
    "display(px.histogram(pd.Series(maxes, name = \"Max Comparisons\"), title = \"Max Number of Comparisons by Element\"))"
   ]
  },
  {
   "cell_type": "code",
   "execution_count": 9,
   "metadata": {},
   "outputs": [
    {
     "data": {
      "application/vnd.plotly.v1+json": {
       "config": {
        "plotlyServerURL": "https://plot.ly"
       },
       "data": [
        {
         "alignmentgroup": "True",
         "bingroup": "x",
         "hovertemplate": "variable=Comparisons<br>value=%{x}<br>count=%{y}<extra></extra>",
         "legendgroup": "Comparisons",
         "marker": {
          "color": "#636efa",
          "pattern": {
           "shape": ""
          }
         },
         "name": "Comparisons",
         "offsetgroup": "Comparisons",
         "orientation": "v",
         "showlegend": true,
         "type": "histogram",
         "x": [
          10,
          11,
          12,
          11,
          14,
          14,
          13,
          13,
          14,
          13,
          14,
          15,
          12,
          15,
          13,
          15,
          15,
          13,
          14,
          12,
          14,
          14,
          15,
          14,
          16,
          13,
          15,
          20,
          15,
          15,
          14,
          12,
          11,
          17,
          15,
          15,
          15,
          23,
          13,
          25,
          17,
          16,
          16,
          19,
          14,
          15,
          14,
          15,
          19,
          13,
          17,
          18,
          13,
          14,
          14,
          18,
          13,
          20,
          18,
          11,
          18,
          18,
          13,
          14,
          15,
          13,
          18,
          18,
          13,
          17,
          21,
          13,
          14,
          19,
          12,
          21,
          21,
          21,
          17,
          20,
          15,
          17,
          18,
          19,
          17,
          14,
          17,
          21,
          13,
          15,
          12,
          15,
          23,
          19,
          15,
          14,
          14,
          20,
          14,
          17,
          13,
          15,
          18,
          16,
          17,
          19,
          23,
          21,
          12,
          16,
          16,
          20,
          16,
          17,
          16,
          13,
          11,
          19,
          12,
          20,
          21,
          17,
          15,
          14,
          21,
          14,
          15,
          20,
          18,
          20,
          14,
          15,
          17,
          16,
          16,
          15,
          28,
          24,
          15,
          13,
          17,
          16,
          12,
          16,
          16,
          16,
          17,
          22,
          16,
          18,
          18,
          14,
          17,
          15,
          13,
          14,
          21,
          19,
          19,
          15,
          18,
          25,
          14,
          15,
          21,
          14,
          22,
          18,
          18,
          21,
          14,
          24,
          17,
          18,
          16,
          20,
          16,
          19,
          14,
          14,
          18,
          21,
          13,
          19,
          14,
          16,
          22,
          13,
          19,
          21,
          20,
          12,
          21,
          23,
          17,
          16,
          23,
          22,
          23,
          15,
          22,
          16,
          20,
          11,
          20,
          17,
          12,
          19,
          19,
          18,
          18,
          23,
          16,
          16,
          17,
          14,
          16,
          20,
          14,
          21,
          20,
          13,
          15,
          14,
          17,
          24,
          16,
          20,
          18,
          13,
          16,
          15,
          21,
          17,
          14,
          14,
          25,
          13,
          15,
          18,
          13,
          18,
          15,
          23,
          17,
          21,
          23,
          18,
          15,
          15,
          17,
          24,
          21,
          17,
          18,
          14,
          13,
          16,
          20,
          27,
          20,
          16,
          14,
          23,
          18,
          22,
          13,
          15,
          18,
          24,
          19,
          19,
          18,
          12,
          15,
          25,
          24,
          22,
          13,
          15,
          21,
          20,
          13,
          18,
          22,
          19,
          19,
          18,
          17,
          22,
          16,
          17,
          23,
          13,
          19,
          16,
          16,
          20,
          18,
          27,
          17,
          12,
          20,
          22,
          21,
          21,
          13,
          22,
          12,
          17,
          17,
          27,
          15,
          21,
          24,
          15,
          21,
          22,
          14,
          16,
          16,
          14,
          13,
          17,
          25,
          17,
          18,
          14,
          21,
          22,
          15,
          13,
          18,
          23,
          16,
          14,
          13,
          23,
          19,
          22,
          23,
          13,
          19,
          18,
          14,
          20,
          19,
          22,
          14,
          24,
          19,
          17,
          15,
          22,
          18,
          18,
          22,
          17,
          20,
          13,
          20,
          22,
          24,
          17,
          20,
          16,
          16,
          19,
          20,
          19,
          17,
          20,
          20,
          15,
          17,
          15,
          17,
          15,
          21,
          18,
          23,
          15,
          14,
          19,
          17,
          18,
          14,
          16,
          16,
          15,
          24,
          14,
          16,
          17,
          19,
          18,
          18,
          20,
          20,
          14,
          17,
          16,
          18,
          20,
          18,
          14,
          16,
          18,
          13,
          18,
          25,
          21,
          19,
          18,
          16,
          19,
          24,
          15,
          16,
          16,
          17,
          17,
          22,
          15,
          15,
          23,
          16,
          21,
          18,
          20,
          14,
          21,
          20,
          18,
          21,
          15,
          20,
          16,
          26,
          18,
          18,
          15,
          20,
          18,
          20,
          21,
          20,
          19,
          16,
          16,
          24,
          20,
          15,
          18,
          17,
          20,
          27,
          18,
          15,
          14,
          22,
          16,
          15,
          22,
          17,
          23,
          17,
          17,
          22,
          14,
          24,
          13,
          21,
          15,
          16,
          17,
          22,
          16,
          17,
          24,
          15,
          11,
          17,
          23,
          23,
          26,
          17,
          18,
          12,
          22,
          19,
          14,
          16,
          21,
          18,
          18,
          18,
          19,
          16,
          17,
          20,
          13,
          19,
          20,
          23,
          23,
          20,
          14,
          20,
          20,
          18,
          20,
          19,
          18,
          14,
          22,
          25,
          21,
          17,
          22,
          12,
          17,
          14,
          18,
          19,
          16,
          24,
          21,
          21,
          22,
          22,
          16,
          18,
          23,
          18,
          13,
          20,
          25,
          19,
          26,
          16,
          18,
          12,
          16,
          21,
          17,
          18,
          16,
          27,
          18,
          17,
          19,
          13,
          22,
          20,
          19,
          14,
          17,
          25,
          17,
          14,
          17,
          12,
          14,
          12,
          22,
          12,
          21,
          19,
          26,
          15,
          16,
          16,
          28,
          22,
          18,
          21,
          14,
          19,
          16,
          16,
          23,
          14,
          15,
          17,
          22,
          20,
          15,
          23,
          18,
          15,
          13,
          19,
          26,
          14,
          22,
          24,
          17,
          17,
          16,
          16,
          17,
          14,
          17,
          22,
          16,
          17,
          21,
          21,
          15,
          25,
          19,
          16,
          18,
          13,
          19,
          19,
          15,
          12,
          16,
          19,
          15,
          22,
          19,
          20,
          15,
          18,
          17,
          22,
          23,
          20,
          19,
          20,
          18,
          16,
          17,
          10,
          29,
          14,
          27,
          12,
          18,
          18,
          12,
          21,
          16,
          13,
          22,
          11,
          13,
          32,
          23,
          13,
          13,
          31,
          20,
          24,
          15,
          15,
          19,
          19,
          21,
          18,
          22,
          16,
          15,
          21,
          15,
          23,
          19,
          22,
          18,
          20,
          22,
          18,
          17,
          16,
          21,
          19,
          17,
          15,
          20,
          16,
          15,
          11,
          17,
          20,
          27,
          24,
          16,
          20,
          21,
          17,
          11,
          23,
          16,
          22,
          16,
          17,
          21,
          17,
          13,
          14,
          18,
          18,
          20,
          21,
          17,
          14,
          27,
          14,
          22,
          16,
          16,
          17,
          25,
          16,
          20,
          15,
          12,
          21,
          20,
          21,
          11,
          23,
          15,
          14,
          12,
          13,
          15,
          14,
          13,
          26,
          18,
          19,
          20,
          16,
          19,
          16,
          26,
          27,
          15,
          13,
          19,
          15,
          28,
          18,
          18,
          20,
          22,
          16,
          15,
          16,
          22,
          12,
          19,
          18,
          11,
          24,
          15,
          11,
          22,
          15,
          20,
          17,
          18,
          21,
          19,
          19,
          20,
          21,
          22,
          18,
          15,
          17,
          18,
          14,
          14,
          20,
          18,
          21,
          28,
          20,
          17,
          20,
          16,
          15,
          18,
          16,
          15,
          21,
          18,
          15,
          18,
          18,
          28,
          17,
          15,
          10,
          12,
          20,
          18,
          18,
          17,
          16,
          22,
          13,
          14,
          20,
          19,
          17,
          15,
          16,
          13,
          19,
          16,
          21,
          22,
          21,
          14,
          14,
          16,
          22,
          17,
          19,
          25,
          15,
          14,
          14,
          21,
          19,
          15,
          15,
          18,
          12,
          21,
          23,
          22,
          13,
          14,
          13,
          24,
          15,
          18,
          19,
          15,
          21,
          20,
          13,
          14,
          24,
          21,
          15,
          23,
          15,
          10,
          9,
          22,
          18,
          18,
          20,
          13,
          21,
          15,
          21,
          18,
          15,
          18,
          16,
          16,
          14,
          17,
          14,
          15,
          9,
          26,
          22,
          20,
          16,
          18,
          15,
          15,
          8,
          20,
          12,
          17,
          20,
          15,
          17,
          15,
          16,
          16,
          26,
          16,
          17,
          17,
          18,
          15,
          13,
          15,
          18,
          10,
          20,
          14,
          23,
          17,
          16,
          12,
          13,
          17,
          23,
          12,
          14,
          17,
          22,
          10,
          16,
          20,
          15,
          18,
          18,
          14,
          17,
          23,
          12,
          12,
          13,
          25,
          23,
          21,
          20,
          13,
          26,
          21,
          14,
          15,
          13,
          14,
          18,
          12,
          15,
          18,
          16,
          23,
          13,
          23,
          15,
          13,
          18,
          14,
          18,
          18,
          16,
          14,
          22,
          12,
          17,
          16,
          18,
          11,
          20,
          15,
          17,
          12,
          14,
          19,
          20,
          12,
          18,
          20,
          18,
          17,
          12,
          13,
          14,
          17,
          19,
          11,
          20,
          10,
          15,
          17,
          15,
          15,
          22,
          11,
          12,
          15,
          17,
          17,
          14,
          11,
          16,
          21,
          16,
          16,
          22,
          12,
          16,
          11,
          20,
          16,
          13,
          8,
          13,
          19,
          12,
          11,
          14,
          18,
          18,
          14,
          15,
          16,
          12,
          22,
          7,
          16,
          12,
          12,
          15,
          10,
          16,
          8
         ],
         "xaxis": "x",
         "yaxis": "y"
        }
       ],
       "layout": {
        "barmode": "relative",
        "legend": {
         "title": {
          "text": "variable"
         },
         "tracegroupgap": 0
        },
        "template": {
         "data": {
          "bar": [
           {
            "error_x": {
             "color": "#2a3f5f"
            },
            "error_y": {
             "color": "#2a3f5f"
            },
            "marker": {
             "line": {
              "color": "#E5ECF6",
              "width": 0.5
             },
             "pattern": {
              "fillmode": "overlay",
              "size": 10,
              "solidity": 0.2
             }
            },
            "type": "bar"
           }
          ],
          "barpolar": [
           {
            "marker": {
             "line": {
              "color": "#E5ECF6",
              "width": 0.5
             },
             "pattern": {
              "fillmode": "overlay",
              "size": 10,
              "solidity": 0.2
             }
            },
            "type": "barpolar"
           }
          ],
          "carpet": [
           {
            "aaxis": {
             "endlinecolor": "#2a3f5f",
             "gridcolor": "white",
             "linecolor": "white",
             "minorgridcolor": "white",
             "startlinecolor": "#2a3f5f"
            },
            "baxis": {
             "endlinecolor": "#2a3f5f",
             "gridcolor": "white",
             "linecolor": "white",
             "minorgridcolor": "white",
             "startlinecolor": "#2a3f5f"
            },
            "type": "carpet"
           }
          ],
          "choropleth": [
           {
            "colorbar": {
             "outlinewidth": 0,
             "ticks": ""
            },
            "type": "choropleth"
           }
          ],
          "contour": [
           {
            "colorbar": {
             "outlinewidth": 0,
             "ticks": ""
            },
            "colorscale": [
             [
              0,
              "#0d0887"
             ],
             [
              0.1111111111111111,
              "#46039f"
             ],
             [
              0.2222222222222222,
              "#7201a8"
             ],
             [
              0.3333333333333333,
              "#9c179e"
             ],
             [
              0.4444444444444444,
              "#bd3786"
             ],
             [
              0.5555555555555556,
              "#d8576b"
             ],
             [
              0.6666666666666666,
              "#ed7953"
             ],
             [
              0.7777777777777778,
              "#fb9f3a"
             ],
             [
              0.8888888888888888,
              "#fdca26"
             ],
             [
              1,
              "#f0f921"
             ]
            ],
            "type": "contour"
           }
          ],
          "contourcarpet": [
           {
            "colorbar": {
             "outlinewidth": 0,
             "ticks": ""
            },
            "type": "contourcarpet"
           }
          ],
          "heatmap": [
           {
            "colorbar": {
             "outlinewidth": 0,
             "ticks": ""
            },
            "colorscale": [
             [
              0,
              "#0d0887"
             ],
             [
              0.1111111111111111,
              "#46039f"
             ],
             [
              0.2222222222222222,
              "#7201a8"
             ],
             [
              0.3333333333333333,
              "#9c179e"
             ],
             [
              0.4444444444444444,
              "#bd3786"
             ],
             [
              0.5555555555555556,
              "#d8576b"
             ],
             [
              0.6666666666666666,
              "#ed7953"
             ],
             [
              0.7777777777777778,
              "#fb9f3a"
             ],
             [
              0.8888888888888888,
              "#fdca26"
             ],
             [
              1,
              "#f0f921"
             ]
            ],
            "type": "heatmap"
           }
          ],
          "heatmapgl": [
           {
            "colorbar": {
             "outlinewidth": 0,
             "ticks": ""
            },
            "colorscale": [
             [
              0,
              "#0d0887"
             ],
             [
              0.1111111111111111,
              "#46039f"
             ],
             [
              0.2222222222222222,
              "#7201a8"
             ],
             [
              0.3333333333333333,
              "#9c179e"
             ],
             [
              0.4444444444444444,
              "#bd3786"
             ],
             [
              0.5555555555555556,
              "#d8576b"
             ],
             [
              0.6666666666666666,
              "#ed7953"
             ],
             [
              0.7777777777777778,
              "#fb9f3a"
             ],
             [
              0.8888888888888888,
              "#fdca26"
             ],
             [
              1,
              "#f0f921"
             ]
            ],
            "type": "heatmapgl"
           }
          ],
          "histogram": [
           {
            "marker": {
             "pattern": {
              "fillmode": "overlay",
              "size": 10,
              "solidity": 0.2
             }
            },
            "type": "histogram"
           }
          ],
          "histogram2d": [
           {
            "colorbar": {
             "outlinewidth": 0,
             "ticks": ""
            },
            "colorscale": [
             [
              0,
              "#0d0887"
             ],
             [
              0.1111111111111111,
              "#46039f"
             ],
             [
              0.2222222222222222,
              "#7201a8"
             ],
             [
              0.3333333333333333,
              "#9c179e"
             ],
             [
              0.4444444444444444,
              "#bd3786"
             ],
             [
              0.5555555555555556,
              "#d8576b"
             ],
             [
              0.6666666666666666,
              "#ed7953"
             ],
             [
              0.7777777777777778,
              "#fb9f3a"
             ],
             [
              0.8888888888888888,
              "#fdca26"
             ],
             [
              1,
              "#f0f921"
             ]
            ],
            "type": "histogram2d"
           }
          ],
          "histogram2dcontour": [
           {
            "colorbar": {
             "outlinewidth": 0,
             "ticks": ""
            },
            "colorscale": [
             [
              0,
              "#0d0887"
             ],
             [
              0.1111111111111111,
              "#46039f"
             ],
             [
              0.2222222222222222,
              "#7201a8"
             ],
             [
              0.3333333333333333,
              "#9c179e"
             ],
             [
              0.4444444444444444,
              "#bd3786"
             ],
             [
              0.5555555555555556,
              "#d8576b"
             ],
             [
              0.6666666666666666,
              "#ed7953"
             ],
             [
              0.7777777777777778,
              "#fb9f3a"
             ],
             [
              0.8888888888888888,
              "#fdca26"
             ],
             [
              1,
              "#f0f921"
             ]
            ],
            "type": "histogram2dcontour"
           }
          ],
          "mesh3d": [
           {
            "colorbar": {
             "outlinewidth": 0,
             "ticks": ""
            },
            "type": "mesh3d"
           }
          ],
          "parcoords": [
           {
            "line": {
             "colorbar": {
              "outlinewidth": 0,
              "ticks": ""
             }
            },
            "type": "parcoords"
           }
          ],
          "pie": [
           {
            "automargin": true,
            "type": "pie"
           }
          ],
          "scatter": [
           {
            "fillpattern": {
             "fillmode": "overlay",
             "size": 10,
             "solidity": 0.2
            },
            "type": "scatter"
           }
          ],
          "scatter3d": [
           {
            "line": {
             "colorbar": {
              "outlinewidth": 0,
              "ticks": ""
             }
            },
            "marker": {
             "colorbar": {
              "outlinewidth": 0,
              "ticks": ""
             }
            },
            "type": "scatter3d"
           }
          ],
          "scattercarpet": [
           {
            "marker": {
             "colorbar": {
              "outlinewidth": 0,
              "ticks": ""
             }
            },
            "type": "scattercarpet"
           }
          ],
          "scattergeo": [
           {
            "marker": {
             "colorbar": {
              "outlinewidth": 0,
              "ticks": ""
             }
            },
            "type": "scattergeo"
           }
          ],
          "scattergl": [
           {
            "marker": {
             "colorbar": {
              "outlinewidth": 0,
              "ticks": ""
             }
            },
            "type": "scattergl"
           }
          ],
          "scattermapbox": [
           {
            "marker": {
             "colorbar": {
              "outlinewidth": 0,
              "ticks": ""
             }
            },
            "type": "scattermapbox"
           }
          ],
          "scatterpolar": [
           {
            "marker": {
             "colorbar": {
              "outlinewidth": 0,
              "ticks": ""
             }
            },
            "type": "scatterpolar"
           }
          ],
          "scatterpolargl": [
           {
            "marker": {
             "colorbar": {
              "outlinewidth": 0,
              "ticks": ""
             }
            },
            "type": "scatterpolargl"
           }
          ],
          "scatterternary": [
           {
            "marker": {
             "colorbar": {
              "outlinewidth": 0,
              "ticks": ""
             }
            },
            "type": "scatterternary"
           }
          ],
          "surface": [
           {
            "colorbar": {
             "outlinewidth": 0,
             "ticks": ""
            },
            "colorscale": [
             [
              0,
              "#0d0887"
             ],
             [
              0.1111111111111111,
              "#46039f"
             ],
             [
              0.2222222222222222,
              "#7201a8"
             ],
             [
              0.3333333333333333,
              "#9c179e"
             ],
             [
              0.4444444444444444,
              "#bd3786"
             ],
             [
              0.5555555555555556,
              "#d8576b"
             ],
             [
              0.6666666666666666,
              "#ed7953"
             ],
             [
              0.7777777777777778,
              "#fb9f3a"
             ],
             [
              0.8888888888888888,
              "#fdca26"
             ],
             [
              1,
              "#f0f921"
             ]
            ],
            "type": "surface"
           }
          ],
          "table": [
           {
            "cells": {
             "fill": {
              "color": "#EBF0F8"
             },
             "line": {
              "color": "white"
             }
            },
            "header": {
             "fill": {
              "color": "#C8D4E3"
             },
             "line": {
              "color": "white"
             }
            },
            "type": "table"
           }
          ]
         },
         "layout": {
          "annotationdefaults": {
           "arrowcolor": "#2a3f5f",
           "arrowhead": 0,
           "arrowwidth": 1
          },
          "autotypenumbers": "strict",
          "coloraxis": {
           "colorbar": {
            "outlinewidth": 0,
            "ticks": ""
           }
          },
          "colorscale": {
           "diverging": [
            [
             0,
             "#8e0152"
            ],
            [
             0.1,
             "#c51b7d"
            ],
            [
             0.2,
             "#de77ae"
            ],
            [
             0.3,
             "#f1b6da"
            ],
            [
             0.4,
             "#fde0ef"
            ],
            [
             0.5,
             "#f7f7f7"
            ],
            [
             0.6,
             "#e6f5d0"
            ],
            [
             0.7,
             "#b8e186"
            ],
            [
             0.8,
             "#7fbc41"
            ],
            [
             0.9,
             "#4d9221"
            ],
            [
             1,
             "#276419"
            ]
           ],
           "sequential": [
            [
             0,
             "#0d0887"
            ],
            [
             0.1111111111111111,
             "#46039f"
            ],
            [
             0.2222222222222222,
             "#7201a8"
            ],
            [
             0.3333333333333333,
             "#9c179e"
            ],
            [
             0.4444444444444444,
             "#bd3786"
            ],
            [
             0.5555555555555556,
             "#d8576b"
            ],
            [
             0.6666666666666666,
             "#ed7953"
            ],
            [
             0.7777777777777778,
             "#fb9f3a"
            ],
            [
             0.8888888888888888,
             "#fdca26"
            ],
            [
             1,
             "#f0f921"
            ]
           ],
           "sequentialminus": [
            [
             0,
             "#0d0887"
            ],
            [
             0.1111111111111111,
             "#46039f"
            ],
            [
             0.2222222222222222,
             "#7201a8"
            ],
            [
             0.3333333333333333,
             "#9c179e"
            ],
            [
             0.4444444444444444,
             "#bd3786"
            ],
            [
             0.5555555555555556,
             "#d8576b"
            ],
            [
             0.6666666666666666,
             "#ed7953"
            ],
            [
             0.7777777777777778,
             "#fb9f3a"
            ],
            [
             0.8888888888888888,
             "#fdca26"
            ],
            [
             1,
             "#f0f921"
            ]
           ]
          },
          "colorway": [
           "#636efa",
           "#EF553B",
           "#00cc96",
           "#ab63fa",
           "#FFA15A",
           "#19d3f3",
           "#FF6692",
           "#B6E880",
           "#FF97FF",
           "#FECB52"
          ],
          "font": {
           "color": "#2a3f5f"
          },
          "geo": {
           "bgcolor": "white",
           "lakecolor": "white",
           "landcolor": "#E5ECF6",
           "showlakes": true,
           "showland": true,
           "subunitcolor": "white"
          },
          "hoverlabel": {
           "align": "left"
          },
          "hovermode": "closest",
          "mapbox": {
           "style": "light"
          },
          "paper_bgcolor": "white",
          "plot_bgcolor": "#E5ECF6",
          "polar": {
           "angularaxis": {
            "gridcolor": "white",
            "linecolor": "white",
            "ticks": ""
           },
           "bgcolor": "#E5ECF6",
           "radialaxis": {
            "gridcolor": "white",
            "linecolor": "white",
            "ticks": ""
           }
          },
          "scene": {
           "xaxis": {
            "backgroundcolor": "#E5ECF6",
            "gridcolor": "white",
            "gridwidth": 2,
            "linecolor": "white",
            "showbackground": true,
            "ticks": "",
            "zerolinecolor": "white"
           },
           "yaxis": {
            "backgroundcolor": "#E5ECF6",
            "gridcolor": "white",
            "gridwidth": 2,
            "linecolor": "white",
            "showbackground": true,
            "ticks": "",
            "zerolinecolor": "white"
           },
           "zaxis": {
            "backgroundcolor": "#E5ECF6",
            "gridcolor": "white",
            "gridwidth": 2,
            "linecolor": "white",
            "showbackground": true,
            "ticks": "",
            "zerolinecolor": "white"
           }
          },
          "shapedefaults": {
           "line": {
            "color": "#2a3f5f"
           }
          },
          "ternary": {
           "aaxis": {
            "gridcolor": "white",
            "linecolor": "white",
            "ticks": ""
           },
           "baxis": {
            "gridcolor": "white",
            "linecolor": "white",
            "ticks": ""
           },
           "bgcolor": "#E5ECF6",
           "caxis": {
            "gridcolor": "white",
            "linecolor": "white",
            "ticks": ""
           }
          },
          "title": {
           "x": 0.05
          },
          "xaxis": {
           "automargin": true,
           "gridcolor": "white",
           "linecolor": "white",
           "ticks": "",
           "title": {
            "standoff": 15
           },
           "zerolinecolor": "white",
           "zerolinewidth": 2
          },
          "yaxis": {
           "automargin": true,
           "gridcolor": "white",
           "linecolor": "white",
           "ticks": "",
           "title": {
            "standoff": 15
           },
           "zerolinecolor": "white",
           "zerolinewidth": 2
          }
         }
        },
        "title": {
         "text": "Distribution of Comparisons by Element in Tournament Sort"
        },
        "xaxis": {
         "anchor": "y",
         "domain": [
          0,
          1
         ],
         "title": {
          "text": "value"
         }
        },
        "yaxis": {
         "anchor": "x",
         "domain": [
          0,
          1
         ],
         "title": {
          "text": "count"
         }
        }
       }
      }
     },
     "metadata": {},
     "output_type": "display_data"
    }
   ],
   "source": [
    "n = 1024\n",
    "teams = []\n",
    "for i in range(n):\n",
    "    teams.append(Team(i, i))\n",
    "T = Tournament(teams)\n",
    "T.tournamentSort()\n",
    "\n",
    "px.histogram(pd.Series(T.comparisons, name = \"Comparisons\"), title = \"Distribution of Comparisons by Element in Tournament Sort\")"
   ]
  }
 ],
 "metadata": {
  "kernelspec": {
   "display_name": "base",
   "language": "python",
   "name": "python3"
  },
  "language_info": {
   "codemirror_mode": {
    "name": "ipython",
    "version": 3
   },
   "file_extension": ".py",
   "mimetype": "text/x-python",
   "name": "python",
   "nbconvert_exporter": "python",
   "pygments_lexer": "ipython3",
   "version": "3.10.9"
  }
 },
 "nbformat": 4,
 "nbformat_minor": 2
}
